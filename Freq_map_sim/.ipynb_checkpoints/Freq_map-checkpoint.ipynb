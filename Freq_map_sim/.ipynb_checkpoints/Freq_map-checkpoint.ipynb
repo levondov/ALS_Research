{
 "cells": [
  {
   "cell_type": "code",
   "execution_count": 1,
   "metadata": {
    "collapsed": false
   },
   "outputs": [],
   "source": [
    "#%matplotlib inline\n",
    "\n",
    "import numpy as np\n",
    "import matplotlib.pyplot as plt\n",
    "import mpld3\n",
    "from pylab import *\n",
    "from tuneDiagram import tuneDiagram\n",
    "\n",
    "#mpld3.enable_notebook()"
   ]
  },
  {
   "cell_type": "code",
   "execution_count": 2,
   "metadata": {
    "collapsed": false
   },
   "outputs": [],
   "source": [
    "#data1 = np.genfromtxt('data_naff_1.5mhz',dtype=np.str)\n",
    "data1 = np.genfromtxt('data_naff_1.5mhz_amp',dtype=np.str)\n",
    "data2 = np.genfromtxt('data_naff_100x100')\n",
    "# Remove NaN in data and change dtype to float\n",
    "for i,clm in enumerate(data1.T):\n",
    "\tfor j,tmp in enumerate(clm):\n",
    "\t\tif tmp =='NaN':\n",
    "\t\t\tdata1[j,i] = np.nan\n",
    "\t\telse:\n",
    "\t\t\tdata1[j,i] = float64(tmp)"
   ]
  },
  {
   "cell_type": "code",
   "execution_count": 3,
   "metadata": {
    "collapsed": false
   },
   "outputs": [],
   "source": [
    "tD = tuneDiagram(5,0.1,0.2,0)\n",
    "tD.newColor([False,True,False])\n",
    "tD.plot(fig=0)\n",
    "\n",
    "figure(0)\n",
    "plt.scatter(data1[:,0],data1[:,1],marker='.',linewidth=0,c=-1*np.argsort(data1[:,2]))\n",
    "plt.axis((0.13,0.18,0.20,0.25))\n",
    "#cb = plt.colorbar()\n",
    "plt.grid(True)\n",
    "plt.show()"
   ]
  },
  {
   "cell_type": "code",
   "execution_count": null,
   "metadata": {
    "collapsed": false
   },
   "outputs": [],
   "source": []
  },
  {
   "cell_type": "code",
   "execution_count": null,
   "metadata": {
    "collapsed": true
   },
   "outputs": [],
   "source": []
  }
 ],
 "metadata": {
  "kernelspec": {
   "display_name": "Python 2",
   "language": "python",
   "name": "python2"
  },
  "language_info": {
   "codemirror_mode": {
    "name": "ipython",
    "version": 2
   },
   "file_extension": ".py",
   "mimetype": "text/x-python",
   "name": "python",
   "nbconvert_exporter": "python",
   "pygments_lexer": "ipython2",
   "version": "2.7.6"
  }
 },
 "nbformat": 4,
 "nbformat_minor": 0
}
