{
 "cells": [
  {
   "cell_type": "markdown",
   "metadata": {},
   "source": [
    "## Frequency maps with ALS model simulation\n"
   ]
  },
  {
   "cell_type": "markdown",
   "metadata": {},
   "source": [
    "Import the required files"
   ]
  },
  {
   "cell_type": "code",
   "execution_count": 1,
   "metadata": {
    "collapsed": false
   },
   "outputs": [
    {
     "name": "stderr",
     "output_type": "stream",
     "text": [
      "/usr/local/lib/python2.7/dist-packages/numpy/oldnumeric/__init__.py:11: ModuleDeprecationWarning: The oldnumeric module will be dropped in Numpy 1.9\n",
      "  warnings.warn(_msg, ModuleDeprecationWarning)\n"
     ]
    }
   ],
   "source": [
    "#%matplotlib inline\n",
    "\n",
    "import numpy as np\n",
    "import matplotlib.pyplot as plt\n",
    "import mpld3\n",
    "from pylab import *\n",
    "from tuneDiagram import tuneDiagram\n",
    "from scipy import stats\n",
    "\n",
    "#mpld3.enable_notebook()"
   ]
  },
  {
   "cell_type": "markdown",
   "metadata": {},
   "source": [
    "Import simulated data from matlab"
   ]
  },
  {
   "cell_type": "code",
   "execution_count": null,
   "metadata": {
    "collapsed": false
   },
   "outputs": [],
   "source": [
    "#data1 = np.genfromtxt('data_naff_1.5mhz',dtype=np.str)\n",
    "data1 = np.genfromtxt('data_naff_100x100',dtype=np.str)\n",
    "# Remove NaN in data and change dtype to float\n",
    "for i,clm in enumerate(data1.T):\n",
    "\tfor j,tmp in enumerate(clm):\n",
    "\t\tif tmp =='NaN':\n",
    "\t\t\tdata1[j,i] = np.nan\n",
    "\t\telse:\n",
    "\t\t\tdata1[j,i] = float64(tmp)         "
   ]
  },
  {
   "cell_type": "markdown",
   "metadata": {},
   "source": [
    "tuneDiagram here will be plotting the resonance tune lines for us."
   ]
  },
  {
   "cell_type": "code",
   "execution_count": null,
   "metadata": {
    "collapsed": false,
    "scrolled": true
   },
   "outputs": [],
   "source": [
    "tD = tuneDiagram(6,0.1,0.2,0) #initialize with 6th order lines, plot 0.1,0.2 -> x,y\n",
    "tD.newColor([False,True,False]) # color scheme (all black)\n",
    "tD.plot(fig=0) # use figure 0 to plot\n",
    "\n",
    "\n",
    "figure(0)\n",
    "plt.scatter(data1[:,0],data1[:,1],marker='.',linewidth=0,c=-1*np.argsort(data1[:,2]))\n",
    "plt.axis((0.13,0.18,0.20,0.25))\n",
    "#cb = plt.colorbar()\n",
    "plt.grid(True)\n",
    "plt.show()"
   ]
  },
  {
   "cell_type": "code",
   "execution_count": null,
   "metadata": {
    "collapsed": false
   },
   "outputs": [],
   "source": [
    "figure(1)\n",
    "plt.scatter(data1[:,3],data1[:,0],marker='.',linewidth=0,c=-1*np.argsort(data1[:,2]))\n",
    "plt.grid(True)\n",
    "\n",
    "plt.xlabel('Horizontal amplitude (m)')\n",
    "plt.ylabel('Horizontal tune Qx')\n",
    "plt.title('Horizontal detuning with amplitude')\n",
    "plt.show()"
   ]
  },
  {
   "cell_type": "code",
   "execution_count": null,
   "metadata": {
    "collapsed": false
   },
   "outputs": [],
   "source": [
    "figure(2)\n",
    "plt.scatter(data1[:,4],data1[:,1],marker='.',linewidth=0,c=-1*np.argsort(data1[:,2]))\n",
    "plt.grid(True)\n",
    "\n",
    "plt.xlabel('Vertical amplitude (m)')\n",
    "plt.ylabel('Vertial tune Qy')\n",
    "plt.title('Vertical detuning with amplitude')\n",
    "plt.show()"
   ]
  },
  {
   "cell_type": "code",
   "execution_count": 19,
   "metadata": {
    "collapsed": false
   },
   "outputs": [
    {
     "name": "stdout",
     "output_type": "stream",
     "text": [
      "['0.1772758' '0.1772604' '0.1772429' '0.1772234' '0.1772018' '0.1771784'\n",
      " '0.1771529' '0.1771256' '0.1770964' '0.1770653' '0.1770323' '0.1769975'\n",
      " '0.1769608' '0.1769223' '0.176882' '0.1768399' '0.176796' '0.1767502'\n",
      " '0.1767027' '0.1766534' '0.1766023' '0.1765495' '0.1764948' '0.1764385'\n",
      " '0.1763804' '0.1763206' '0.176259' '0.1761957' '0.1761308' '0.1760641'\n",
      " '0.1759958' '0.1759258' '0.1758541' '0.1757808' '0.1757059' '0.1756294'\n",
      " '0.1755513' '0.1754716' '0.1753903' '0.1753076' '0.1752233' '0.1751375'\n",
      " '0.1750502' '0.1749615' '0.1748713' '0.1747798' '0.1746868' '0.1745925'\n",
      " '0.1744969' '0.1768129' '0.1768011' '0.1767869' '0.1767707' '0.1767523']\n"
     ]
    }
   ],
   "source": [
    "#data1 = np.genfromtxt('data_naff_1.5mhz',dtype=np.str)\n",
    "data2 = np.genfromtxt('data_naff_amp_kick_50x50',dtype=np.str)\n",
    "# Remove NaN in data and change dtype to float\n",
    "for i,clm in enumerate(data2.T):\n",
    "\tfor j,tmp in enumerate(clm):\n",
    "\t\tif tmp =='NaN':\n",
    "\t\t\tdata2[j,i] = np.nan\n",
    "\t\telse:\n",
    "\t\t\tdata2[j,i] = float64(tmp)   \n",
    "            \n",
    "print data2[1:55,0]            "
   ]
  },
  {
   "cell_type": "code",
   "execution_count": 20,
   "metadata": {
    "collapsed": false
   },
   "outputs": [],
   "source": [
    "tD = tuneDiagram(6,0.1,0.2,0) #initialize with 6th order lines, plot 0.1,0.2 -> x,y\n",
    "tD.newColor([False,True,False]) # color scheme (all black)\n",
    "tD.plot(fig=0) # use figure 0 to plot\n",
    "\n",
    "\n",
    "figure(0)\n",
    "plt.scatter(data2[:,0],data2[:,1],marker='o',linewidth=0,c=np.argsort(data2[:,2]))\n",
    "plt.axis((0.13,0.18,0.20,0.25))\n",
    "#cb = plt.colorbar()\n",
    "plt.grid(True)\n",
    "plt.show()"
   ]
  },
  {
   "cell_type": "code",
   "execution_count": 13,
   "metadata": {
    "collapsed": false,
    "scrolled": true
   },
   "outputs": [
    {
     "name": "stdout",
     "output_type": "stream",
     "text": [
      "['0.0005' '0.0005' '0.0005' '0.0005' '0.0005' '0.0005' '0.0005' '0.0005'\n",
      " '0.0005']\n"
     ]
    }
   ],
   "source": [
    "figure(2)\n",
    "plt.scatter(data2[:,3],data2[:,4],marker='.',linewidth=0,c=np.argsort(data2[:,2]))\n",
    "plt.grid(True)\n",
    "plt.axis((-0.000001,0.000003,0.20,0.25))\n",
    "\n",
    "plt.xlabel('Vertical amplitude (m)')\n",
    "plt.ylabel('Vertial tune Qy')\n",
    "plt.title('Vertical detuning with amplitude')\n",
    "\n",
    "print data2[1:10,4]\n",
    "plt.show()"
   ]
  },
  {
   "cell_type": "code",
   "execution_count": null,
   "metadata": {
    "collapsed": true
   },
   "outputs": [],
   "source": []
  }
 ],
 "metadata": {
  "kernelspec": {
   "display_name": "Python 2",
   "language": "python",
   "name": "python2"
  },
  "language_info": {
   "codemirror_mode": {
    "name": "ipython",
    "version": 2
   },
   "file_extension": ".py",
   "mimetype": "text/x-python",
   "name": "python",
   "nbconvert_exporter": "python",
   "pygments_lexer": "ipython2",
   "version": "2.7.6"
  }
 },
 "nbformat": 4,
 "nbformat_minor": 0
}
