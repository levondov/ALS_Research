{
 "cells": [
  {
   "cell_type": "markdown",
   "metadata": {},
   "source": [
    "# TracyPy Introduction, Part 1"
   ]
  },
  {
   "cell_type": "markdown",
   "metadata": {},
   "source": [
    "**TracyPy** is a Python program for accelerator modeling and simulation studies. It is a very small subset of our full **Tracy** that was originally written in Pascal in late 1980's, ported to C++ in 90's, and recently to C#. The C++ version is also called **Goemon***.\n",
    "\n",
    "**TracyPy** is completely written in Python 2.7 by using the three major Python packages, **NumPy**, **SciPy** and **MatPlotLib** which you may know well already.\n",
    "\n",
    "**TracyPy** will be presented in 3 parts. \n",
    "\n",
    "1. Self-contained IPython Notebook (this document!)\n",
    "2. **TracyPy** Python Module\n",
    "3. IPython Notebook importing the **TracyPy** Python module.\n",
    "\n",
    "This is the part 1, a self-contained IPython Notebook. Starting with scratch, we take you to the level of creating a simple accelerator and simulating it.\n",
    "\n",
    "Hope this notebook helps your learning the accelerator physics.\n",
    "\n",
    "Author Info:\n",
    "\n",
    "Hiroshi Nishimura, H_Nishimura@lbl.gov, July 21, 2015.\n"
   ]
  },
  {
   "cell_type": "markdown",
   "metadata": {},
   "source": [
    "## Linear Algebra in Python"
   ]
  },
  {
   "cell_type": "markdown",
   "metadata": {},
   "source": [
    "We start with a very short introduction to **NumPy** as \n",
    "accelerator design, modeling and simulation studies use linear algebra intensively. As you may already know, **NumPy** provides **Array** and **Matrix** data types. ** NumPy Array** is a multi dimensional array type with the linear algebra functions. **NumPy Matrix** is inherently a 2-dim array that knows linear algebra much better than **NumPy Array** does. "
   ]
  },
  {
   "cell_type": "markdown",
   "metadata": {},
   "source": [
    "We start with our Python programming by importing as follows."
   ]
  },
  {
   "cell_type": "code",
   "execution_count": 1,
   "metadata": {
    "collapsed": false
   },
   "outputs": [],
   "source": [
    "%matplotlib inline\n",
    "import numpy as np\n",
    "import numpy.linalg as nla \n",
    "import math\n",
    "import matplotlib.pyplot as plt"
   ]
  },
  {
   "cell_type": "markdown",
   "metadata": {},
   "source": [
    "Let us see the difference between  **Array** and **Matrix** in case of the dot product. <BR>\n",
    "**Array** does matrix operations as follows. Notice that multiply by using ***** is for element by element. The dot function is for the normal matrix multiplication."
   ]
  },
  {
   "cell_type": "code",
   "execution_count": 2,
   "metadata": {
    "collapsed": false
   },
   "outputs": [
    {
     "name": "stdout",
     "output_type": "stream",
     "text": [
      "Array: A=\n",
      "[[1 2]\n",
      " [3 4]]\n",
      "Array: B=\n",
      "[[ 0  2]\n",
      " [-1  2]]\n",
      "Array: 2*A=\n",
      "[[2 4]\n",
      " [6 8]]\n",
      "Array: A+B=\n",
      "[[1 4]\n",
      " [2 6]]\n",
      "Array: A-2*B=\n",
      "[[2 2]\n",
      " [7 6]]\n",
      "Array: A*B=\n",
      "[[ 0  4]\n",
      " [-3  8]]\n",
      "Array: A.dot(B)=\n",
      "[[-2  6]\n",
      " [-4 14]]\n"
     ]
    }
   ],
   "source": [
    "A=np.array([[1,2],[3,4]])\n",
    "B=np.array([[0,2],[-1,2]])\n",
    "print \"Array: A=\\n\", A\n",
    "print \"Array: B=\\n\", B\n",
    "print \"Array: 2*A=\\n\",2*A\n",
    "print \"Array: A+B=\\n\",A+B\n",
    "print \"Array: A-2*B=\\n\",2*A-B\n",
    "print \"Array: A*B=\\n\",A*B\n",
    "print \"Array: A.dot(B)=\\n\",A.dot(B)"
   ]
  },
  {
   "cell_type": "markdown",
   "metadata": {},
   "source": [
    "On the other hand, **Matrix** behaves like **Matlab**."
   ]
  },
  {
   "cell_type": "code",
   "execution_count": 3,
   "metadata": {
    "collapsed": false
   },
   "outputs": [
    {
     "name": "stdout",
     "output_type": "stream",
     "text": [
      "Matrix: A=\n",
      "[[1 2]\n",
      " [3 4]]\n",
      "Matrix: B=\n",
      "[[ 0  2]\n",
      " [-1  2]]\n",
      "Matrix: 2*A=\n",
      "[[2 4]\n",
      " [6 8]]\n",
      "Matrix: A+B=\n",
      "[[1 4]\n",
      " [2 6]]\n",
      "Matrix: A-2*B=\n",
      "[[2 2]\n",
      " [7 6]]\n",
      "Matrix: A*B=\n",
      "[[-2  6]\n",
      " [-4 14]]\n"
     ]
    }
   ],
   "source": [
    "A=np.matrix([[1,2],[3,4]])\n",
    "B=np.matrix([[0,2],[-1,2]])\n",
    "print \"Matrix: A=\\n\", A\n",
    "print \"Matrix: B=\\n\", B\n",
    "print \"Matrix: 2*A=\\n\",2*A\n",
    "print \"Matrix: A+B=\\n\",A+B\n",
    "print \"Matrix: A-2*B=\\n\",2*A-B\n",
    "print \"Matrix: A*B=\\n\",A*B"
   ]
  },
  {
   "cell_type": "markdown",
   "metadata": {},
   "source": [
    "**NumPy** gives strong support for linear algabra. Let us see an example of **SVD**. <br>\n",
    "We first create 5x5 array/matrix named A that is filled with random numbers between 0 and 1. Then, apply **SVD** and invert A for testing."
   ]
  },
  {
   "cell_type": "code",
   "execution_count": 4,
   "metadata": {
    "collapsed": false
   },
   "outputs": [
    {
     "name": "stdout",
     "output_type": "stream",
     "text": [
      "A=\n",
      "[[ 0.28306458  0.07658402  0.31293499  0.56354196  0.17140261]\n",
      " [ 0.25816116  0.89781386  0.72152207  0.02936669  0.95237452]\n",
      " [ 0.77498882  0.23648083  0.06133071  0.97417071  0.50758651]\n",
      " [ 0.34677553  0.88272498  0.16446759  0.07859907  0.34485111]\n",
      " [ 0.0903422   0.59255991  0.28626301  0.08691506  0.86746024]]\n",
      "det(A)=\n",
      "-0.0522950034168\n",
      "U=\n",
      "[[-0.22195134  0.38123577  0.2821388   0.62886946 -0.5747328 ]\n",
      " [-0.62938788 -0.3974559   0.2752458   0.35007317  0.49758239]\n",
      " [-0.43892982  0.7798185  -0.07328266 -0.30180573  0.32057242]\n",
      " [-0.40028873 -0.15996678 -0.86075788  0.12021676 -0.24253528]\n",
      " [-0.44913033 -0.2509618   0.31362871 -0.61354153 -0.51039587]]\n",
      "s=\n",
      "[ 2.2697135   1.18986648  0.50303113  0.34499963  0.11157771]\n",
      "V=\n",
      "[[-0.32817425 -0.57511711 -0.32819005 -0.28270221 -0.61148404]\n",
      " [ 0.4466991  -0.36403185 -0.18304138  0.78030699 -0.15986737]\n",
      " [-0.34993425 -0.64125615  0.45843302  0.10992279  0.49405741]\n",
      " [ 0.06014338  0.09753299  0.79712643  0.07764485 -0.58773363]\n",
      " [ 0.7527884  -0.34058625  0.11495984 -0.54137668  0.10491021]]\n",
      "S=\n",
      "[[ 2.2697135   0.          0.          0.          0.        ]\n",
      " [ 0.          1.18986648  0.          0.          0.        ]\n",
      " [ 0.          0.          0.50303113  0.          0.        ]\n",
      " [ 0.          0.          0.          0.34499963  0.        ]\n",
      " [ 0.          0.          0.          0.          0.11157771]]\n",
      "U*S*V=\n",
      "[[ 0.28306458  0.07658402  0.31293499  0.56354196  0.17140261]\n",
      " [ 0.25816116  0.89781386  0.72152207  0.02936669  0.95237452]\n",
      " [ 0.77498882  0.23648083  0.06133071  0.97417071  0.50758651]\n",
      " [ 0.34677553  0.88272498  0.16446759  0.07859907  0.34485111]\n",
      " [ 0.0903422   0.59255991  0.28626301  0.08691506  0.86746024]]\n",
      "B=trace(V)*int(S)*trace(U)=\n",
      "[[-3.78901144  3.16841288  2.51741526 -1.01876112 -3.79793127]\n",
      " [ 1.51206899 -1.4896829  -1.09779712  2.02196409  1.17528604]\n",
      " [ 1.09142856  1.72450546 -0.49031727 -0.6740805  -1.55409189]\n",
      " [ 3.26945418 -2.45759968 -1.073289    0.96069933  2.29826225]\n",
      " [-1.3260369   0.36477209  0.75706804 -1.14890876  1.02807189]]\n",
      "A*B=\n",
      "[[  1.00000000e+00  -2.90045765e-15  -1.66533454e-16  -1.38777878e-16\n",
      "    4.49640325e-15]\n",
      " [ -1.55431223e-15   1.00000000e+00   5.55111512e-16  -2.22044605e-16\n",
      "    3.10862447e-15]\n",
      " [ -1.11022302e-16   1.52655666e-15   1.00000000e+00  -3.33066907e-16\n",
      "   -1.33226763e-15]\n",
      " [  8.21565038e-15   2.96984659e-15  -3.88578059e-15   1.00000000e+00\n",
      "   -6.88338275e-15]\n",
      " [ -4.88498131e-15   8.32667268e-16   2.33146835e-15  -1.66533454e-15\n",
      "    1.00000000e+00]]\n"
     ]
    }
   ],
   "source": [
    "dim=5\n",
    "A=np.array(np.random.random((dim,dim)))\n",
    "print \"A=\\n\",A\n",
    "print \"det(A)=\\n\",nla.det(A)\n",
    "U,s,V = nla.svd(A)\n",
    "print \"U=\\n\",U\n",
    "print \"s=\\n\",s\n",
    "print \"V=\\n\",V\n",
    "S = np.zeros((dim,dim))\n",
    "n = dim\n",
    "S[:n,:n] = np.diag(s)\n",
    "print \"S=\\n\", S\n",
    "print \"U*S*V=\\n\",U.dot(S.dot(V)) \n",
    "Si=nla.inv(S)\n",
    "B=np.transpose(V).dot(nla.inv(S).dot(np.transpose(U)))\n",
    "print \"B=trace(V)*int(S)*trace(U)=\\n\",B \n",
    "print \"A*B=\\n\",A.dot(B)\n"
   ]
  },
  {
   "cell_type": "markdown",
   "metadata": {},
   "source": [
    "It works! However, the notations are a little bit verbose. <br>\n",
    "If we use **Matrix**, the expressions look much nicer as in **Matlabb**.\n"
   ]
  },
  {
   "cell_type": "code",
   "execution_count": 5,
   "metadata": {
    "collapsed": false
   },
   "outputs": [
    {
     "name": "stdout",
     "output_type": "stream",
     "text": [
      "A=\n",
      "[[ 0.90209161  0.92270369  0.93348519  0.96631161  0.84799384]\n",
      " [ 0.04841518  0.33279157  0.98168463  0.8309835   0.24577945]\n",
      " [ 0.35122186  0.5689889   0.86333213  0.84801062  0.68010074]\n",
      " [ 0.5096669   0.1171761   0.78663308  0.02154641  0.86219983]\n",
      " [ 0.4959465   0.58882113  0.13862643  0.16310025  0.25357923]]\n",
      "det(A)=\n",
      "-0.0405507831307\n",
      "U=\n",
      "[[-0.65961342  0.17763711 -0.367431    0.14642873  0.61392856]\n",
      " [-0.38958444 -0.70274856  0.19962793 -0.55954993  0.0376962 ]\n",
      " [-0.49705642 -0.21949875  0.02782508  0.59158976 -0.59498112]\n",
      " [-0.34447453  0.53211911  0.75572774 -0.1610885  -0.03335623]\n",
      " [-0.21772991  0.37849581 -0.50323405 -0.53808415 -0.51629018]]\n",
      "s=\n",
      "[ 3.06503104  0.8648584   0.73514367  0.18696213  0.11129957]\n",
      "V=\n",
      "[[-0.34975837 -0.38814155 -0.56393275 -0.46510898 -0.43894044]\n",
      " [ 0.58743219  0.10448328 -0.28039753 -0.60733514  0.4433147 ]\n",
      " [-0.23998898 -0.63188316  0.54645297 -0.31471909  0.3814053 ]\n",
      " [-0.1935245  -0.26853672 -0.55189942  0.46512568  0.60786629]\n",
      " [ 0.66147265 -0.60583915 -0.01238001  0.31532151 -0.30956734]]\n",
      "S=\n",
      "[[ 3.06503104  0.          0.          0.          0.        ]\n",
      " [ 0.          0.8648584   0.          0.          0.        ]\n",
      " [ 0.          0.          0.73514367  0.          0.        ]\n",
      " [ 0.          0.          0.          0.18696213  0.        ]\n",
      " [ 0.          0.          0.          0.          0.11129957]]\n",
      "U*S*V=\n",
      "[[ 0.90209161  0.92270369  0.93348519  0.96631161  0.84799384]\n",
      " [ 0.04841518  0.33279157  0.98168463  0.8309835   0.24577945]\n",
      " [ 0.35122186  0.5689889   0.86333213  0.84801062  0.68010074]\n",
      " [ 0.5096669   0.1171761   0.78663308  0.02154641  0.86219983]\n",
      " [ 0.4959465   0.58882113  0.13862643  0.16310025  0.25357923]]\n",
      "B=V.T*S.I*U.T=\n",
      "[[  3.81298947e+00   3.05189369e-01  -4.24988241e+00   1.22528852e-01\n",
      "   -2.06522050e+00]\n",
      " [ -3.13131615e+00   3.91346898e-01   2.40147324e+00  -1.28725469e-01\n",
      "    4.08903802e+00]\n",
      " [ -7.09887857e-01   2.09546806e+00  -1.49685157e+00   9.31846359e-01\n",
      "    1.18909432e+00]\n",
      " [  2.23625049e+00  -8.18103422e-01   3.78182154e-03  -1.14018998e+00\n",
      "   -2.81866156e+00]\n",
      " [ -1.23660549e+00  -2.12495834e+00   3.55140480e+00   2.83206372e-01\n",
      "   -3.49352710e-01]]\n",
      "A*B=\n",
      "[[  1.00000000e+00   8.88178420e-16  -3.10862447e-15  -9.99200722e-16\n",
      "   -2.10942375e-15]\n",
      " [ -1.88737914e-15   1.00000000e+00   3.33066907e-16   4.56579219e-15\n",
      "   -3.34454686e-15]\n",
      " [  4.44089210e-16   1.11022302e-15   1.00000000e+00   1.47104551e-15\n",
      "   -2.10942375e-15]\n",
      " [  3.55271368e-15  -1.33226763e-15  -1.33226763e-15   1.00000000e+00\n",
      "    2.77555756e-16]\n",
      " [  2.44249065e-15  -5.55111512e-16  -1.66533454e-15  -2.45636844e-15\n",
      "    1.00000000e+00]]\n"
     ]
    }
   ],
   "source": [
    "dim=5\n",
    "A=np.matrix(np.random.random((dim,dim)))\n",
    "print \"A=\\n\",A\n",
    "print \"det(A)=\\n\",nla.det(A)\n",
    "U,s,V = nla.svd(A)\n",
    "print \"U=\\n\",U\n",
    "print \"s=\\n\",s\n",
    "print \"V=\\n\",V\n",
    "S = np.matrix(np.zeros((dim,dim)))\n",
    "n = dim\n",
    "S[:n,:n] = np.diag(s)\n",
    "print \"S=\\n\", S\n",
    "print \"U*S*V=\\n\",U*S*V \n",
    "B=V.T*S.I*U.T \n",
    "print \"B=V.T*S.I*U.T=\\n\",B \n",
    "print \"A*B=\\n\",A*B\n"
   ]
  },
  {
   "cell_type": "markdown",
   "metadata": {},
   "source": [
    "Here the problem is the creation of **Matrix** variables that is often indirect. Let us make a tiny utility class called **tnp**."
   ]
  },
  {
   "cell_type": "code",
   "execution_count": 6,
   "metadata": {
    "collapsed": false
   },
   "outputs": [],
   "source": [
    "class tnp:\n",
    "    \"\"\"\n",
    "    A tiny utility class for TracyPy\n",
    "    \"\"\"\n",
    "    \n",
    "    def zeros(m, n):\n",
    "        \"\"\"Creates a (m, n) matrix filled with zeros.\"\"\"\n",
    "        return np.matrix(np.zeros((m,n)))\n",
    "\n",
    "    zeros = staticmethod(zeros)\n",
    "\n",
    "    def eye(n):\n",
    "        \"\"\"Creates a (n, n) unit matrix.\"\"\"\n",
    "        return np.asmatrix(np.eye(n))\n",
    "\n",
    "    eye = staticmethod(eye)\n",
    "\n",
    "    def randomat(m, n):\n",
    "        \"\"\"Creates a (m, n) matrix filled with random numbers between 0 and 1.\"\"\"\n",
    "        return np.matrix(np.random.random((n,m)))\n",
    "\n",
    "    randomat = staticmethod(randomat)\n",
    "\n",
    "    def colvec(param):\n",
    "        \"\"\"Creates a column vector by using matrix.\"\"\"\n",
    "        if type(param) == type(1):\n",
    "            if param <= 0:\n",
    "                raise Exception(\">> colvec(n), if n is int, n>0!\")\n",
    "            return np.asmatrix(np.zeros((param, 1), dtype=np.float))\n",
    "\n",
    "        if type(param) == type([]):\n",
    "            y=[]\n",
    "            for c in param:\n",
    "                y.append(c)\n",
    "        return np.matrix(y).T\n",
    "\n",
    "    colvec = staticmethod(colvec)\n",
    "    "
   ]
  },
  {
   "cell_type": "code",
   "execution_count": 7,
   "metadata": {
    "collapsed": false
   },
   "outputs": [
    {
     "name": "stdout",
     "output_type": "stream",
     "text": [
      "type(A)= <class 'numpy.matrixlib.defmatrix.matrix'>\n",
      "     A =\n",
      "[[ 0.  0.]\n",
      " [ 0.  0.]]\n",
      "type(B)= <class 'numpy.matrixlib.defmatrix.matrix'>\n",
      "     B =\n",
      "[[ 0.  0.]\n",
      " [ 0.  0.]]\n"
     ]
    }
   ],
   "source": [
    "# tnp.zeros example\n",
    "A=np.matrix(np.zeros((2,2)))\n",
    "print \"type(A)=\", type(A)\n",
    "print \"     A =\\n\",A\n",
    "B=tnp.zeros(2,2)\n",
    "print \"type(B)=\", type(B)\n",
    "print \"     B =\\n\",B"
   ]
  },
  {
   "cell_type": "code",
   "execution_count": 8,
   "metadata": {
    "collapsed": false
   },
   "outputs": [
    {
     "name": "stdout",
     "output_type": "stream",
     "text": [
      "A=type(np,eye(2))= <type 'numpy.ndarray'>\n",
      "[[ 1.  0.]\n",
      " [ 0.  1.]]\n",
      "B=type(tnp,eye(2))= <class 'numpy.matrixlib.defmatrix.matrix'>\n",
      "[[ 1.  0.]\n",
      " [ 0.  1.]]\n"
     ]
    }
   ],
   "source": [
    "# Unit array and matrix\n",
    "A=np.eye(2)\n",
    "print \"A=type(np,eye(2))=\", type(A)\n",
    "print A\n",
    "B=tnp.eye(2)\n",
    "print \"B=type(tnp,eye(2))=\",type(B)\n",
    "print B"
   ]
  },
  {
   "cell_type": "markdown",
   "metadata": {},
   "source": [
    "Up to now, **Matrix** looks better than **Array**. However, there is an issue of **Vector**. As **Matrix** is inherently a 2-dim matrix, a 1-dim array of **vector** is not directly supported. Therefore, a row vector of [1,2,3] is treated as a (1,3) **Matrix**. If it is a n-dim column vector, it becomes a (n, 1) **Matrix**.\n",
    "**tnp.colvec** is to create a column vector with given dimension, or a given list of element values. See the example below."
   ]
  },
  {
   "cell_type": "code",
   "execution_count": 9,
   "metadata": {
    "collapsed": false
   },
   "outputs": [
    {
     "name": "stdout",
     "output_type": "stream",
     "text": [
      "x=tnp.colvec(3)=\n",
      "[[ 0.]\n",
      " [ 0.]\n",
      " [ 0.]]\n",
      "y=tnp.colvec([1.2, 3.4, 5.6])=\n",
      "[[ 1.2]\n",
      " [ 3.4]\n",
      " [ 5.6]]\n"
     ]
    }
   ],
   "source": [
    "x=tnp.colvec(3)\n",
    "print \"x=tnp.colvec(3)=\\n\",x\n",
    "y=tnp.colvec([1.2, 3.4, 5.6])\n",
    "print \"y=tnp.colvec([1.2, 3.4, 5.6])=\\n\",y"
   ]
  },
  {
   "cell_type": "markdown",
   "metadata": {},
   "source": [
    "Here is an example of **Matrix** and **Vector** operation. "
   ]
  },
  {
   "cell_type": "code",
   "execution_count": 10,
   "metadata": {
    "collapsed": false
   },
   "outputs": [
    {
     "name": "stdout",
     "output_type": "stream",
     "text": [
      "A=\n",
      "[[ 1.   1.2 -1.3]\n",
      " [ 0.5 -2.3  0.8]\n",
      " [ 2.   1.  -0.7]]\n",
      "v=\n",
      "[[1]\n",
      " [2]\n",
      " [3]]\n",
      "u=A*v=\n",
      "[[-0.5]\n",
      " [-1.7]\n",
      " [ 1.9]]\n",
      "w=\n",
      "[[ 1.]\n",
      " [ 2.]\n",
      " [ 3.]]\n"
     ]
    }
   ],
   "source": [
    "A = np.mat( [[1.0, 1.2, -1.3], [0.5, -2.3, 0.8], [2.0, 1.0, -0.7]])\n",
    "print \"A=\\n\",A\n",
    "v = tnp.colvec([1,2,3])\n",
    "print \"v=\\n\",v\n",
    "u = A*v\n",
    "print \"u=A*v=\\n\",u\n",
    "B = A.I\n",
    "w = B*u\n",
    "print \"w=\\n\",w"
   ]
  },
  {
   "cell_type": "markdown",
   "metadata": {},
   "source": [
    "Although a **Vector** uses a ** Matrix** of 1 column or 1 row, its element access needs only one index. "
   ]
  },
  {
   "cell_type": "code",
   "execution_count": 11,
   "metadata": {
    "collapsed": false
   },
   "outputs": [
    {
     "name": "stdout",
     "output_type": "stream",
     "text": [
      "  x[0]= 1.100\n",
      "  x[1]= 2.200\n",
      "  x[2]= 3.300\n"
     ]
    }
   ],
   "source": [
    "x = tnp.colvec([1.1,2.2,3.3])\n",
    "for n in range(3):\n",
    "    print \"  x[%d]=%6.3f\" %(n, x[n])"
   ]
  },
  {
   "cell_type": "markdown",
   "metadata": {},
   "source": [
    "## Transfer Matrix"
   ]
  },
  {
   "cell_type": "markdown",
   "metadata": {},
   "source": [
    "Understanding the minimum of doing linear algebra in Python, let us work on the transfer matrices."
   ]
  },
  {
   "cell_type": "markdown",
   "metadata": {},
   "source": [
    "### Utility Functions"
   ]
  },
  {
   "cell_type": "markdown",
   "metadata": {},
   "source": [
    "Let us define a few utility routines so that we can handle the transfer matrices easily."
   ]
  },
  {
   "cell_type": "code",
   "execution_count": 12,
   "metadata": {
    "collapsed": false
   },
   "outputs": [],
   "source": [
    "def SetA33(A, a00, a01, a02, a10, a11, a12, a20, a21, a22):\n",
    "    A[0,0] = a00;    A[0,1] = a01;    A[0,2] = a02\n",
    "    A[1,0] = a10;    A[1,1] = a11;    A[1,2] = a12\n",
    "    A[2,0] = a20;    A[2,1] = a21;    A[2,2] = a22"
   ]
  },
  {
   "cell_type": "code",
   "execution_count": 13,
   "metadata": {
    "collapsed": false
   },
   "outputs": [
    {
     "name": "stdout",
     "output_type": "stream",
     "text": [
      "[[ 0.   0.1  0.2]\n",
      " [ 1.   1.1  1.2]\n",
      " [ 2.   2.1  2.2]]\n"
     ]
    }
   ],
   "source": [
    "# test\n",
    "A=np.eye(3)\n",
    "SetA33(A,0.0,0.1,0.2,1.0,1.1,1.2,2.0,2.1,2.2)\n",
    "print A"
   ]
  },
  {
   "cell_type": "code",
   "execution_count": 14,
   "metadata": {
    "collapsed": false
   },
   "outputs": [],
   "source": [
    "def UnitA(A):\n",
    "    A[:]=tnp.eye(A.shape[0])"
   ]
  },
  {
   "cell_type": "code",
   "execution_count": 15,
   "metadata": {
    "collapsed": false
   },
   "outputs": [
    {
     "name": "stdout",
     "output_type": "stream",
     "text": [
      "[[ 1.  0.  0.]\n",
      " [ 0.  1.  0.]\n",
      " [ 0.  0.  1.]]\n"
     ]
    }
   ],
   "source": [
    "#test\n",
    "A=np.eye(3)\n",
    "SetA33(A,0.0,0.1,0.2,1.0,1.1,1.2,2.0,2.1,2.2)\n",
    "UnitA(A)\n",
    "print A"
   ]
  },
  {
   "cell_type": "code",
   "execution_count": 16,
   "metadata": {
    "collapsed": false
   },
   "outputs": [],
   "source": [
    "def ClearA(A):\n",
    "    np.fill(A,0.0)"
   ]
  },
  {
   "cell_type": "code",
   "execution_count": 17,
   "metadata": {
    "collapsed": false
   },
   "outputs": [],
   "source": [
    "def SetA55(A, a00, a01, a04, a10, a11, a14, a22, a23, a24, a32, a33, a34):\n",
    "    UnitA(A)\n",
    "    A[0,0] = a00;    A[0,1] = a01;    A[0,4] = a04\n",
    "    A[1,0] = a10;    A[1,1] = a11;    A[1,4] = a14\n",
    "    A[2,2] = a22;    A[2,3] = a23;    A[2,4] = a24\n",
    "    A[3,2] = a32;    A[3,3] = a33;    A[3,4] = a34"
   ]
  },
  {
   "cell_type": "code",
   "execution_count": 18,
   "metadata": {
    "collapsed": false
   },
   "outputs": [],
   "source": [
    "def SetHVA55(A, AH, AV):\n",
    "    UnitA(A)\n",
    "    i = 0\n",
    "    while i < 2:\n",
    "        j = 0\n",
    "        while j < 2:\n",
    "            A[i,j] = AH[i,j]\n",
    "            A[i + 2,j + 2] = AV[i,j]\n",
    "            j += 1\n",
    "        i += 1\n",
    "    A[0,4] = AH[0,2]\n",
    "    A[1,4] = AH[1,2]\n",
    "    A[2,4] = AV[0,2]\n",
    "    A[3,4] = AV[1,2]"
   ]
  },
  {
   "cell_type": "code",
   "execution_count": 19,
   "metadata": {
    "collapsed": false
   },
   "outputs": [
    {
     "name": "stdout",
     "output_type": "stream",
     "text": [
      "[[ 0.   0.1  0.   0.   0.2]\n",
      " [ 1.   1.1  0.   0.   1.2]\n",
      " [ 0.   0.   0.  -0.1 -0.2]\n",
      " [ 0.   0.  -1.  -1.1 -1.2]\n",
      " [ 0.   0.   0.   0.   1. ]]\n"
     ]
    }
   ],
   "source": [
    "#test\n",
    "AH=tnp.eye(3)\n",
    "SetA33(AH,0.0,0.1,0.2,1.0,1.1,1.2,2.0,2.1,2.2)\n",
    "AV=tnp.eye(3)\n",
    "SetA33(AV,0.0,-0.1,-0.2,-1.0,-1.1,-1.2,-2.0,-2.1,-2.2)\n",
    "A=tnp.eye(5)\n",
    "SetHVA55(A,AH,AV)\n",
    "print A"
   ]
  },
  {
   "cell_type": "markdown",
   "metadata": {},
   "source": [
    "### Drift Transfer Matrix"
   ]
  },
  {
   "cell_type": "code",
   "execution_count": 20,
   "metadata": {
    "collapsed": false
   },
   "outputs": [],
   "source": [
    "def DriftMat(L, dP):\n",
    "    \n",
    "    \"\"\"Returns a 5x5 transfer matrix of a Drift space of length L [m] \n",
    "    for a particle with momentum deviation ofdP/P=dp.\"\"\"\n",
    "\n",
    "    A = tnp.eye(5)\n",
    "    L = L / (1.0 + dP)\n",
    "    SetA55(A, 1.0, L, 0.0, 0.0, 1.0, 0.0, 1.0, L, 0.0, 0.0, 1.0, 0.0)\n",
    "    return A"
   ]
  },
  {
   "cell_type": "code",
   "execution_count": 21,
   "metadata": {
    "collapsed": false
   },
   "outputs": [
    {
     "name": "stdout",
     "output_type": "stream",
     "text": [
      "[[ 1.   0.5  0.   0.   0. ]\n",
      " [ 0.   1.   0.   0.   0. ]\n",
      " [ 0.   0.   1.   0.5  0. ]\n",
      " [ 0.   0.   0.   1.   0. ]\n",
      " [ 0.   0.   0.   0.   1. ]]\n"
     ]
    }
   ],
   "source": [
    "A=DriftMat(0.5,0.0)\n",
    "print A"
   ]
  },
  {
   "cell_type": "markdown",
   "metadata": {},
   "source": [
    "Here is a comparison with Tracy# with the DriftMat(0.5 0.01). **Ao** is by Tracy#, and **A** is by this Python routine. "
   ]
  },
  {
   "cell_type": "code",
   "execution_count": 22,
   "metadata": {
    "collapsed": false
   },
   "outputs": [
    {
     "name": "stdout",
     "output_type": "stream",
     "text": [
      "[[  0.00000000e+00   4.95049507e-09   0.00000000e+00   0.00000000e+00\n",
      "    0.00000000e+00]\n",
      " [  0.00000000e+00   0.00000000e+00   0.00000000e+00   0.00000000e+00\n",
      "    0.00000000e+00]\n",
      " [  0.00000000e+00   0.00000000e+00   0.00000000e+00   4.95049507e-09\n",
      "    0.00000000e+00]\n",
      " [  0.00000000e+00   0.00000000e+00   0.00000000e+00   0.00000000e+00\n",
      "    0.00000000e+00]\n",
      " [  0.00000000e+00   0.00000000e+00   0.00000000e+00   0.00000000e+00\n",
      "    0.00000000e+00]]\n"
     ]
    }
   ],
   "source": [
    "#Drift, L=0.5, dP=0.01\n",
    "Ao=np.mat([  \n",
    "    [1.000000E+000,  4.950495E-001,  0.0,  0.000000E+000,  0.0],\n",
    "    [0.000000E+000,  1.000000E+000,  0.0,  0.000000E+000,  0.0],\n",
    "    [0.000000E+000,  0.000000E+000,  1.0,  4.950495E-001,  0.0],\n",
    "    [0.000000E+000,  0.000000E+000,  0.0,  1.000000E+000,  0.0],\n",
    "    [0.000000E+000,  0.000000E+000,  0.0,  0.000000E+000,  1.0]])\n",
    "A=DriftMat(0.5,0.01)\n",
    "diff=A-Ao\n",
    "print diff"
   ]
  },
  {
   "cell_type": "markdown",
   "metadata": {},
   "source": [
    "### Quad Transfer Matrix"
   ]
  },
  {
   "cell_type": "code",
   "execution_count": 23,
   "metadata": {
    "collapsed": false
   },
   "outputs": [],
   "source": [
    "def QuadMat(L, k0, dP):\n",
    "\n",
    "    \"\"\"Returns a 5x5 transfer matrix of a Quad of length L [m],\n",
    "    gradiend K [1/m] for a particle with momentum deviation ofdP/P=dp.\"\"\"\n",
    "\n",
    "    A = tnp.eye(5)\n",
    "    a = tnp.eye(3)\n",
    "    ah = np.eye(3)\n",
    "    av = np.eye(3)\n",
    "    k = np.abs(k0)\n",
    "    if k > 0.0:\n",
    "        sk0 = math.sqrt(k)\n",
    "        t = L * sk0 / math.sqrt(1.0 + dP)\n",
    "        c = np.cos(t)\n",
    "        s = np.sin(t)\n",
    "        sk = sk0 * math.sqrt(1.0 + dP)\n",
    "        SetA33(a, c, s / sk, 0.0, -sk * s, c, 0.0, 0.0, 0.0, 1.0)\n",
    "        if k0 > 0.0:\n",
    "            ah[:]=a  # copy a to ah\n",
    "        else:\n",
    "            av[:]=a  # copu a to av\n",
    "        c = math.cosh(t)\n",
    "        s = math.sinh(t)\n",
    "        sk = sk0 * math.sqrt(1.0 + dP)\n",
    "        SetA33(a, c, s / sk, 0.0, sk * s, c, 0.0, 0.0, 0, 1.0)\n",
    "        if k0 > 0.0:\n",
    "            av[:]=a \n",
    "        else:\n",
    "            ah[:]=a \n",
    "        SetHVA55(A, ah, av)\n",
    "        return A\n",
    "    else:\n",
    "        return DriftMat(L, dP)"
   ]
  },
  {
   "cell_type": "code",
   "execution_count": 24,
   "metadata": {
    "collapsed": false
   },
   "outputs": [
    {
     "name": "stdout",
     "output_type": "stream",
     "text": [
      "[[ 0.95041528  0.19668329  0.          0.          0.        ]\n",
      " [-0.49170823  0.95041528  0.          0.          0.        ]\n",
      " [ 0.          0.          1.05041806  0.20335004  0.        ]\n",
      " [ 0.          0.          0.5083751   1.05041806  0.        ]\n",
      " [ 0.          0.          0.          0.          1.        ]]\n"
     ]
    }
   ],
   "source": [
    "Q=QuadMat(0.2,2.5,0.0)\n",
    "print Q"
   ]
  },
  {
   "cell_type": "code",
   "execution_count": 25,
   "metadata": {
    "collapsed": false
   },
   "outputs": [
    {
     "name": "stdout",
     "output_type": "stream",
     "text": [
      "[[ -2.92781145e-08  -9.30167554e-09   0.00000000e+00   0.00000000e+00\n",
      "    0.00000000e+00]\n",
      " [  2.61005024e-08  -2.92781145e-08   0.00000000e+00   0.00000000e+00\n",
      "    0.00000000e+00]\n",
      " [  0.00000000e+00   0.00000000e+00  -2.86010554e-07   2.74797305e-08\n",
      "    0.00000000e+00]\n",
      " [  0.00000000e+00   0.00000000e+00   3.85804313e-08  -2.86010554e-07\n",
      "    0.00000000e+00]\n",
      " [  0.00000000e+00   0.00000000e+00   0.00000000e+00   0.00000000e+00\n",
      "    0.00000000e+00]]\n"
     ]
    }
   ],
   "source": [
    "#Quad, L=0.344, K=2.2639155, dP=0.01\n",
    "Ao= np.mat([\n",
    "    [ 8.702807E-001,3.257354E-001,0.000000E+000,0.000000E+000,0.0],\n",
    "    [-7.448118E-001,8.702807E-001,0.000000E+000,0.000000E+000,0.0],\n",
    "    [ 0.000000E+000,0.000000E+000,1.135583E+000,3.558521E-001,0.0],\n",
    "    [ 0.000000E+000,0.000000E+000,8.136753E-001,1.135583E+000,0.0],\n",
    "    [ 0.000000E+000,0.000000E+000,0.000000E+000,0.000000E+000,1.0]])\n",
    "A =QuadMat(0.344,2.2639155,0.01)\n",
    "diff=A-Ao\n",
    "print diff"
   ]
  },
  {
   "cell_type": "markdown",
   "metadata": {},
   "source": [
    "### Bend Transfer Matrix"
   ]
  },
  {
   "cell_type": "code",
   "execution_count": 26,
   "metadata": {
    "collapsed": false
   },
   "outputs": [],
   "source": [
    "def isZero(x):\n",
    "    if math.fabs(x) < 1.0E-20:\n",
    "        return True\n",
    "    return False"
   ]
  },
  {
   "cell_type": "code",
   "execution_count": 27,
   "metadata": {
    "collapsed": false
   },
   "outputs": [],
   "source": [
    "def BendMat(L, t, t1, t2, k, dP):\n",
    "    A = tnp.eye(5)\n",
    "    a = tnp.eye(3)\n",
    "    ah = tnp.eye(3)\n",
    "    av = tnp.eye(3)\n",
    "    if isZero(t):\n",
    "        A = QuadMat(L, k, dP)\n",
    "    else:\n",
    "        r = t * math.pi / 180.0\n",
    "        rho = L / r\n",
    "        coef = 1 + dP\n",
    "        scoef = math.sqrt(coef)\n",
    "        r = r / scoef\n",
    "        k = -k\n",
    "        if isZero(k): # No gradient\n",
    "            c = math.cos(r)\n",
    "            s = math.sin(r)\n",
    "            SetA33(ah, \n",
    "                   c, rho * s / scoef, rho * (1 - c), \n",
    "                   -s * scoef / rho, c, s * scoef, \n",
    "                   0.0, 0.0, 1.0)\n",
    "            SetA33(av, \n",
    "                   1.0, L / coef, 0.0, \n",
    "                   0.0, 1.0, 0.0, \n",
    "                   0.0, 0.0, 1.0)\n",
    "        else: # if (k != 0.0)\n",
    "            fk = k - 1.0 / rho / rho\n",
    "            afk = math.fabs(fk)\n",
    "            sk = math.sqrt(afk)\n",
    "            p = L * sk / scoef\n",
    "            if fk < 0.0: # horizontally focusing\n",
    "                c = math.cos(p)\n",
    "                s = math.sin(p)\n",
    "                SetA33(ah, c, s / sk / scoef, (1.0 - c) / (coef * rho * afk), \n",
    "                       -scoef * sk * s, c, scoef * s / (sk * rho), \n",
    "                       0.0, 0.0, 1.0)\n",
    "                sk = math.sqrt(math.fabs(k))\n",
    "                p = L * sk / scoef\n",
    "                c = math.cosh(p)\n",
    "                s = math.sinh(p)\n",
    "                SetA33(av, c, s / sk / scoef, 0.0, \n",
    "                       sk * s * scoef, c, \n",
    "                       0.0, 0.0, 0.0, 1.0)\n",
    "            else:\n",
    "                c = math.cosh(p)\n",
    "                s = math.sinh(p)\n",
    "                SetA33(ah, \n",
    "                       c, s / sk / scoef, (c - 1.0) / (rho * afk), \n",
    "                       scoef * s * sk, c,  scoef * s / (rho * sk), \n",
    "                       0.0, 0.0, 1.0)\n",
    "                sk = math.sqrt(math.fabs(k))\n",
    "                p = L * sk / scoef\n",
    "                c = math.cos(p)\n",
    "                s = math.sin(p)\n",
    "                SetA33(av, \n",
    "                       c, s / sk / scoef, 0.0, \n",
    "                       -sk * s * scoef, c, \n",
    "                       0.0, 0.0, 0.0, 1.0)\n",
    "        if not isZero(t1):\n",
    "            #print \"1.ah=\\n\",ah\n",
    "            r = t1 * math.pi / 180.0 / scoef\n",
    "            edge=tnp.eye(3)\n",
    "            k=math.tan(r) * scoef / rho\n",
    "            edge[1,0] = k\n",
    "            ah = ah*edge\n",
    "            edge=tnp.eye(3)\n",
    "            edge[1,0] = -k\n",
    "            av = av * edge\n",
    "        if not isZero(t2):\n",
    "            r = t2 * math.pi / 180.0 / scoef\n",
    "            edge=tnp.eye(3)\n",
    "            k=math.tan(r) * scoef / rho\n",
    "            edge[1,0] = k\n",
    "            ah = edge * ah\n",
    "            edge=tnp.eye(3)\n",
    "            edge[1,0] = -k\n",
    "            av = edge * av\n",
    "        SetHVA55(A, ah, av)\n",
    "    return A\n"
   ]
  },
  {
   "cell_type": "code",
   "execution_count": 28,
   "metadata": {
    "collapsed": false
   },
   "outputs": [
    {
     "name": "stdout",
     "output_type": "stream",
     "text": [
      "[[ 0.96592583  1.03804673  0.          0.          0.13666144]\n",
      " [-0.06453206  0.96592583  0.          0.          0.25881905]\n",
      " [ 0.          0.          1.          1.05        0.        ]\n",
      " [ 0.          0.          0.          1.          0.        ]\n",
      " [ 0.          0.          0.          0.          1.        ]]\n"
     ]
    }
   ],
   "source": [
    "B=BendMat(1.05,15.0,0.0,0.0,0.0, 0.0)\n",
    "print B"
   ]
  },
  {
   "cell_type": "code",
   "execution_count": 29,
   "metadata": {
    "collapsed": false
   },
   "outputs": [
    {
     "name": "stdout",
     "output_type": "stream",
     "text": [
      "[[ -4.41907138e-08  -2.21421138e-08   0.00000000e+00   0.00000000e+00\n",
      "    2.01944345e-09]\n",
      " [ -4.80481773e-08  -4.41907138e-08   0.00000000e+00   0.00000000e+00\n",
      "   -3.26163634e-08]\n",
      " [  0.00000000e+00   0.00000000e+00   2.06103770e-08  -1.82802595e-08\n",
      "    0.00000000e+00]\n",
      " [  0.00000000e+00   0.00000000e+00   4.31136442e-08   2.06103770e-08\n",
      "    0.00000000e+00]\n",
      " [  0.00000000e+00   0.00000000e+00   0.00000000e+00   0.00000000e+00\n",
      "    0.00000000e+00]]\n"
     ]
    }
   ],
   "source": [
    "#Bend, L=0.86514,T=10.0,T1=T2=5.0, K=-7.782E-001, dP=0.01\n",
    "Ao=np.mat([\n",
    "    [1.302473E+0, 9.367583E-1, 0.000000E+0, 0.000000E+0, 7.821727E-2],\n",
    "    [7.434531E-1, 1.302473E+0, 0.000000E+0, 0.000000E+0, 1.922515E-1],\n",
    "    [0.000000E+0, 0.000000E+0, 7.115420E-1, 7.765862E-1, 0.000000E+0],\n",
    "    [0.000000E+0, 0.000000E+0,-6.357414E-1, 7.115420E-1, 0.000000E+0],\n",
    "    [0.000000E+0, 0.000000E+0, 0.000000E+0, 0.000000E+0, 1.000000E+0] ])\n",
    "A=BendMat(0.86514,10.0,5.0,5.0,-7.782E-1, 0.01)\n",
    "diff=A-Ao\n",
    "print diff"
   ]
  },
  {
   "cell_type": "markdown",
   "metadata": {},
   "source": [
    "## Object-Oriented Approach"
   ]
  },
  {
   "cell_type": "markdown",
   "metadata": {},
   "source": [
    "**TracyPy** is a subset of the full **Tracy** that is fully object-oriented in C++, or in C#. These classes are rewritten in Python as you will see below. Here is the brief description of major classes.\n",
    "\n",
    "**Element** is a class for magnets, monitors, cavities and all other parts that are used to build a beam line. Take that they are the beam line building blocks stored in the warehouse. \n",
    "\n",
    "When a beam line is built, we take **Element** objects from the warehouse and locate them to form a line. When am **Element** object is added to a beam line, it is located on a frame. This frame is called **Belement**. A **Belement** is to hold one **Element**. \n",
    "\n",
    "A beam line is represented by the class **BeamLine** that is a series of **Belement**. A special version of **BeamLime** with a cyclic boundary condition is called **Ring**."
   ]
  },
  {
   "cell_type": "markdown",
   "metadata": {},
   "source": [
    "### Component Classes"
   ]
  },
  {
   "cell_type": "markdown",
   "metadata": {},
   "source": [
    "**Element** is a root class for beam line components, including magnets, beam monitors, cavities and markers. There are various derived classes, such as **Drift**, **Quad** and **Bend**, to cover various beam line components."
   ]
  },
  {
   "cell_type": "markdown",
   "metadata": {},
   "source": [
    "#### Element Class"
   ]
  },
  {
   "cell_type": "code",
   "execution_count": 30,
   "metadata": {
    "collapsed": false
   },
   "outputs": [],
   "source": [
    "class Element:\n",
    "    \n",
    "    def __init__( self, Name=\"\"):\n",
    "        self.Name=Name\n",
    "        self.L=0\n",
    "\n",
    "    def Pass(self,v):\n",
    "        pass\n",
    "\n",
    "    def SetK(self,K):\n",
    "        pass\n",
    "    \n",
    "    def SetdP(self,dp):\n",
    "        pass\n",
    "    \n",
    "    def SetL(self,L):\n",
    "        self.L=L\n",
    "\n",
    "    def GetA(self):\n",
    "        return None\n",
    "    \n",
    "    def IsThick(self):\n",
    "        return False\n",
    "\n",
    "    def IsBend(self):\n",
    "        return False\n",
    "\n",
    "    def PassL(self,v,vo):\n",
    "        pass\n",
    "\n",
    "    def PassM(self,M,vo):\n",
    "        pass\n"
   ]
  },
  {
   "cell_type": "markdown",
   "metadata": {},
   "source": [
    "#### Marker Class"
   ]
  },
  {
   "cell_type": "code",
   "execution_count": 31,
   "metadata": {
    "collapsed": false
   },
   "outputs": [],
   "source": [
    "class Marker(Element):\n",
    "    \n",
    "    def __init__(self):\n",
    "        Element.__init__()\n",
    "        self.A=None\n",
    "        \n",
    "    def __init__(self,Name):\n",
    "        Element.__init__(self,Name)\n",
    "\n",
    "    def SetL(self,L):\n",
    "        pass\n",
    "\n"
   ]
  },
  {
   "cell_type": "markdown",
   "metadata": {},
   "source": [
    "#### Drift Class"
   ]
  },
  {
   "cell_type": "code",
   "execution_count": 32,
   "metadata": {
    "collapsed": false
   },
   "outputs": [
    {
     "name": "stdout",
     "output_type": "stream",
     "text": [
      "[[ 1.   0.5  0.   0.   0. ]\n",
      " [ 0.   1.   0.   0.   0. ]\n",
      " [ 0.   0.   1.   0.5  0. ]\n",
      " [ 0.   0.   0.   1.   0. ]\n",
      " [ 0.   0.   0.   0.   1. ]]\n"
     ]
    }
   ],
   "source": [
    "class Drift(Element):\n",
    "    \n",
    "    def __init__(self,Name=\"\",L=0.0):\n",
    "        Element.__init__(self,Name)\n",
    "        self.L=L;\n",
    "        self.A=DriftMat(self.L, 0.0)\n",
    "    \n",
    "    def Pass(self,v):\n",
    "        v[:]=self.A*v\n",
    "\n",
    "    def PassL(self,v,vo):\n",
    "        v[:]=self.A*v\n",
    "    \n",
    "    def PassM(self,M,vo):\n",
    "        M[:]=self.A*M\n",
    "    \n",
    "    def SetdP(self,dp):\n",
    "        self.A=DriftMat(self.L,dp)\n",
    "    \n",
    "    def SetL(self,L):\n",
    "        self.L=L\n",
    "        self.A=DriftMat(L,0.0)\n",
    " \n",
    "    def GetA(self):\n",
    "        return self.A\n",
    "\n",
    "    def IsThick(self):\n",
    "        return True\n",
    "\n",
    "D = Drift(\"D\",0.5)\n",
    "print D.GetA()"
   ]
  },
  {
   "cell_type": "markdown",
   "metadata": {},
   "source": [
    "#### Quad Class"
   ]
  },
  {
   "cell_type": "code",
   "execution_count": 33,
   "metadata": {
    "collapsed": false
   },
   "outputs": [
    {
     "name": "stdout",
     "output_type": "stream",
     "text": [
      "[[ 0.88959362  0.28887589  0.          0.          0.        ]\n",
      " [-0.72218972  0.88959362  0.          0.          0.        ]\n",
      " [ 0.          0.          1.11462526  0.31137724  0.        ]\n",
      " [ 0.          0.          0.77844311  1.11462526  0.        ]\n",
      " [ 0.          0.          0.          0.          1.        ]]\n"
     ]
    }
   ],
   "source": [
    "class Quad(Element):\n",
    "           \n",
    "    def __init__(self,Name=\"\",L=0.0,K=0.0):\n",
    "        Element.__init__(self,Name)\n",
    "        self.L=L;\n",
    "        self.K=K\n",
    "        self.A=QuadMat(L,K,0.0)\n",
    "    \n",
    "    def Pass(self,v):\n",
    "        v[:]=self.A*v\n",
    "\n",
    "    def PassL(self,v,vo):\n",
    "        v[:]=self.A*v\n",
    "        \n",
    "    def SetdP(self,dp):\n",
    "        self.A=QuadMat(self.L,self.K,dp)\n",
    "        #print \"Quad.SetK   %s.K =  %12.8f  dP=%10.2E\" %(self.Name, self.K,dp)\n",
    "    \n",
    "    def PassM(self,M,vo):\n",
    "        M[:]=self.A*M\n",
    "    \n",
    "    def SetL(self,L):\n",
    "        self.L=L\n",
    "        self.A=QuadMat(self.K,self.L,0.0)\n",
    "\n",
    "    def GetA(self):\n",
    "        return self.A\n",
    "    \n",
    "    def GetK(self):\n",
    "        return self.K\n",
    "\n",
    "    def SetK(self, K):\n",
    "        self.K=K\n",
    "        self.A=QuadMat(self.L,self.K,0.0)\n",
    "        #print \"Quad.SetK   %s.K <- %12.8f\" %(self.Name, K)\n",
    "\n",
    "    def IsThick(self):\n",
    "        return True\n",
    "\n",
    "    \n",
    "Q=Quad(\"Q\",0.3,2.5)\n",
    "print Q.GetA()\n",
    "    "
   ]
  },
  {
   "cell_type": "markdown",
   "metadata": {},
   "source": [
    "#### Bend Class"
   ]
  },
  {
   "cell_type": "code",
   "execution_count": 34,
   "metadata": {
    "collapsed": false
   },
   "outputs": [],
   "source": [
    "class Bend(Element):\n",
    "            \n",
    "    def __init__(self,Name=\"\",L=0.0,T=0.0,T1=0.0,T2=0.0,K=0.0):\n",
    "        Element.__init__(self,Name)\n",
    "        self.L=L;    self.T=T\n",
    "        self.T1=T1; self.T2=T2\n",
    "        self.K=K\n",
    "        self.A=BendMat(self.L,self.T,self.T1,self.T2,self.K,0.0)\n",
    "        r = T * math.pi / 180.0\n",
    "        rho = L / r\n",
    "        self.Irho=1.0/rho\n",
    "    \n",
    "    def Pass(self,v):\n",
    "        v[:]=self.A*v\n",
    "\n",
    "    def PassL(self,v,vo):\n",
    "        v[:]=self.A*v\n",
    "\n",
    "    def PassM(self,M,vo):\n",
    "        M[:]=self.A*M\n",
    "\n",
    "    def SetdP(self,dp):\n",
    "        self.A=BendMat(self.L,self.T,self.T1,self.T2,self.K,dp)\n",
    "    \n",
    "    def SetL(self,L):\n",
    "        self.L=L\n",
    "        self.A=BendMat(self.K,self.L,self.T,self.T1,self.T2,0.0)\n",
    "\n",
    "    def GetA(self):\n",
    "        return self.A\n",
    "    \n",
    "    def GetK(self):\n",
    "        return self.K\n",
    "\n",
    "    def SetK(self, K, dP=0.0):\n",
    "        self.K=K\n",
    "        self.A=BendMat(self.K,self.L,self.T,self.T1,self.T2,dP)    \n",
    "\n",
    "    def IsThick(self):\n",
    "        return True\n",
    "        \n",
    "    def IsBend(self):\n",
    "        return True\n"
   ]
  },
  {
   "cell_type": "code",
   "execution_count": 35,
   "metadata": {
    "collapsed": false
   },
   "outputs": [
    {
     "name": "stdout",
     "output_type": "stream",
     "text": [
      "[[ -4.41907138e-08  -2.21421138e-08   0.00000000e+00   0.00000000e+00\n",
      "    2.01944345e-09]\n",
      " [ -4.80481773e-08  -4.41907138e-08   0.00000000e+00   0.00000000e+00\n",
      "   -3.26163634e-08]\n",
      " [  0.00000000e+00   0.00000000e+00   2.06103770e-08  -1.82802595e-08\n",
      "    0.00000000e+00]\n",
      " [  0.00000000e+00   0.00000000e+00   4.31136442e-08   2.06103770e-08\n",
      "    0.00000000e+00]\n",
      " [  0.00000000e+00   0.00000000e+00   0.00000000e+00   0.00000000e+00\n",
      "    0.00000000e+00]]\n"
     ]
    }
   ],
   "source": [
    "#Bend, L=0.86514,T=10.0,T1=T2=5.0, K=-7.782E-001, dP=0.01\n",
    "Ao=np.mat([\n",
    "    [1.302473E+0, 9.367583E-1, 0.000000E+0, 0.000000E+0, 7.821727E-2],\n",
    "    [7.434531E-1, 1.302473E+0, 0.000000E+0, 0.000000E+0, 1.922515E-1],\n",
    "    [0.000000E+0, 0.000000E+0, 7.115420E-1, 7.765862E-1, 0.000000E+0],\n",
    "    [0.000000E+0, 0.000000E+0,-6.357414E-1, 7.115420E-1, 0.000000E+0],\n",
    "    [0.000000E+0, 0.000000E+0, 0.000000E+0, 0.000000E+0, 1.000000E+0] ])\n",
    "A=Bend(\"B\",0.86514,10.0,5.0,5.0,-7.782E-1)\n",
    "A.SetdP(0.01)\n",
    "diff=A.GetA()-Ao\n",
    "print diff"
   ]
  },
  {
   "cell_type": "markdown",
   "metadata": {},
   "source": [
    "#### Sext Class"
   ]
  },
  {
   "cell_type": "code",
   "execution_count": 36,
   "metadata": {
    "collapsed": false
   },
   "outputs": [],
   "source": [
    "class Sext(Element):\n",
    "    \n",
    "    def __init__(self,Name=\"\",K=0.0):\n",
    "        Element.__init__(self,Name)\n",
    "        self.L=0.0;\n",
    "        self.K=K\n",
    "        self.A=None\n",
    "    \n",
    "    def Pass(self,v):\n",
    "        v[1] -= self.K * (v[0] * v[0] - v[2] * v[2])\n",
    "        v[3] += 2 * self.K * v[0] * v[2]\n",
    "\n",
    "    def PassL(self,v,vo):\n",
    "        v[1] -= 2 * self.K * (vo[0] * v[0] - vo[2] * v[2]);\n",
    "        v[3] += 2 * self.K * (vo[0] * v[2] + v[0] * vo[2]);\n",
    "        \n",
    "    def SetdP(self,dp):\n",
    "        pass \n",
    "    \n",
    "    def PassM(self,M,vo):\n",
    "        for n in range(4):\n",
    "            self.PassL(M[:,n],vo)\n",
    "    \n",
    "    def SetL(self,L):\n",
    "        pass\n",
    "    \n",
    "    def GetA(self):\n",
    "        return None\n",
    "    \n",
    "    def GetK(self):\n",
    "        return self.K\n",
    "\n",
    "    def SetK(self, K):\n",
    "        self.K=K\n",
    "\n",
    "    def IsThick(self):\n",
    "        return False\n"
   ]
  },
  {
   "cell_type": "markdown",
   "metadata": {},
   "source": [
    "#### Steer Class"
   ]
  },
  {
   "cell_type": "code",
   "execution_count": 37,
   "metadata": {
    "collapsed": false
   },
   "outputs": [],
   "source": [
    "class HSteer(Element):\n",
    "    \n",
    "    def __init__(self,Name=\"\",K=0.0):\n",
    "        Element.__init__(self,Name)\n",
    "        self.L=0.0;\n",
    "        self.K=K\n",
    "        self.A=None\n",
    "    \n",
    "    def Pass(self,v):\n",
    "        v[1] += self.K\n",
    "\n",
    "    def PassL(self,v,vo):\n",
    "        v[1] += self.K\n",
    "        \n",
    "    def SetdP(self,dp):\n",
    "        pass \n",
    "    \n",
    "    def PassM(self,M,vo):\n",
    "        for n in range(4):\n",
    "            M[1,n]+=self.K\n",
    "    \n",
    "    def SetL(self,L):\n",
    "        pass\n",
    "\n",
    "    def GetA(self):\n",
    "        return None\n",
    "    \n",
    "    def GetK(self):\n",
    "        return self.K\n",
    "\n",
    "    def SetK(self, K):\n",
    "        self.K=K\n",
    "\n",
    "    def IsThick(self):\n",
    "        return False\n",
    "\n",
    "class VSteer(Element):\n",
    "    \n",
    "    def __init__(self,Name=\"\",K=0.0):\n",
    "        Element.__init__(self,Name)\n",
    "        self.L=0.0;\n",
    "        self.K=K\n",
    "        self.A=None\n",
    "    \n",
    "    def Pass(self,v):\n",
    "        v[3] += self.K\n",
    "\n",
    "    def PassL(self,v,vo):\n",
    "        v[3] += self.K\n",
    "        \n",
    "    def SetdP(self,dp):\n",
    "        pass \n",
    "    \n",
    "    def PassM(self,M,vo):\n",
    "        for n in range(4):\n",
    "            M[3,n]+=self.K\n",
    "    \n",
    "    def SetL(self,L):\n",
    "        pass\n",
    "\n",
    "    def GetA(self):\n",
    "        return None\n",
    "    \n",
    "    def GetK(self):\n",
    "        return self.K\n",
    "\n",
    "    def SetK(self, K):\n",
    "        self.K=K\n",
    "\n",
    "    def IsThick(self):\n",
    "        return False\n",
    "\n"
   ]
  },
  {
   "cell_type": "markdown",
   "metadata": {},
   "source": [
    "### Structure Classes"
   ]
  },
  {
   "cell_type": "markdown",
   "metadata": {},
   "source": [
    "n accelerator is a beam line, or a collection of beam lines. A beam line is a variable, or an object, of the **BeamLine** class. **Ring** is a derived class of **BeamLine**.\n",
    "\n",
    "We define a beam line, or a **Lattice**,  by giving a sequence of **Element** objects, such as [SYM, D1, Q1, D2, Q2, D3, B, D4, B, D3, Q2, D2, D1]. A beam line may be used to build anther beam line. \n",
    "\n",
    "Like **Matlab**, **Python** supports **List** at its language level which makes the lattice definition very straightforward."
   ]
  },
  {
   "cell_type": "markdown",
   "metadata": {},
   "source": [
    "#### Lattice Configuration"
   ]
  },
  {
   "cell_type": "markdown",
   "metadata": {},
   "source": [
    "Here is an example of the **ALS Booster** lattice only with major magnets. The list **CELL** holds the quadrant of the full lattice, which means that the **Symmetry** is 4."
   ]
  },
  {
   "cell_type": "code",
   "execution_count": 38,
   "metadata": {
    "collapsed": false
   },
   "outputs": [
    {
     "name": "stdout",
     "output_type": "stream",
     "text": [
      "SYM        0.00000       0.00000 \n",
      "QD         0.10000       0.10000 \n",
      "L1         0.54688       0.64687 \n",
      "B          1.05000       1.69687 \n",
      "L2         0.49688       2.19375 \n",
      "QF         0.15000       2.34375 \n",
      "QF         0.15000       2.49375 \n",
      "L3         2.09375       4.58750 \n",
      "QD         0.10000       4.68750 \n",
      "QD         0.10000       4.78750 \n",
      "L1         0.54688       5.33437 \n",
      "B          1.05000       6.38437 \n",
      "L2         0.49688       6.88125 \n",
      "QF         0.15000       7.03125 \n",
      "QF         0.15000       7.18125 \n",
      "L2         0.49688       7.67813 \n",
      "B          1.05000       8.72813 \n",
      "L1         0.54688       9.27500 \n",
      "QD         0.10000       9.37500 \n",
      "QD         0.10000       9.47500 \n",
      "L1         0.54688      10.02187 \n",
      "B          1.05000      11.07188 \n",
      "L2         0.49688      11.56875 \n",
      "QF         0.15000      11.71875 \n",
      "QF         0.15000      11.86875 \n",
      "L2         0.49688      12.36562 \n",
      "B          1.05000      13.41563 \n",
      "L1         0.54688      13.96250 \n",
      "QD         0.10000      14.06250 \n",
      "QD         0.10000      14.16250 \n",
      "L3         2.09375      16.25625 \n",
      "QF         0.15000      16.40625 \n",
      "QF         0.15000      16.55625 \n",
      "L2         0.49688      17.05312 \n",
      "B          1.05000      18.10312 \n",
      "L1         0.54688      18.65000 \n",
      "QD         0.10000      18.75000 \n"
     ]
    }
   ],
   "source": [
    "SYM = Marker(\"SYM\")\n",
    "QD  = Quad(\"QD\", 1.0E-01, -2.491364)\n",
    "L1  = Drift(\"L1\", 5.468750E-01)\n",
    "B   = Bend(\"B\", 1.05, 1.5E+1, 7.5, 7.5, 0.0)\n",
    "L2  = Drift(\"L2\", 4.968750E-01)\n",
    "QF  = Quad(\"QF\", 1.5E-01,2.762167)\n",
    "L3  = Drift(\"L3\", 2.09375)\n",
    "\n",
    "CELL=[SYM, QD , L1 , B , L2 , QF , QF , L3 , QD ,\n",
    "           QD , L1 , B , L2 , QF , QF , L2 , B , L1 , QD ,\n",
    "           QD , L1 , B , L2 , QF , QF , L2 , B , L1 , QD ,\n",
    "           QD , L3 , QF , QF , L2 , B , L1 , QD]\n",
    "\n",
    "S=0.0\n",
    "for x in CELL:\n",
    "    S+=x.L\n",
    "    print \"%-5s %12.5f  %12.5f \" % (x.Name,x.L,S)"
   ]
  },
  {
   "cell_type": "markdown",
   "metadata": {},
   "source": [
    "We can calculate the transfer matrix of the linear lattice."
   ]
  },
  {
   "cell_type": "code",
   "execution_count": 39,
   "metadata": {
    "collapsed": false
   },
   "outputs": [
    {
     "name": "stdout",
     "output_type": "stream",
     "text": [
      "A4=\n",
      "[[ -8.81500848e-06   5.45214150e-01   0.00000000e+00   0.00000000e+00\n",
      "    3.15246054e-02]\n",
      " [ -1.83414168e+00  -8.81500848e-06   0.00000000e+00   0.00000000e+00\n",
      "    5.78200831e-02]\n",
      " [  0.00000000e+00   0.00000000e+00  -7.03672158e-06  -1.20878803e+01\n",
      "    0.00000000e+00]\n",
      " [  0.00000000e+00   0.00000000e+00   8.27274904e-02  -7.03672158e-06\n",
      "    0.00000000e+00]\n",
      " [  0.00000000e+00   0.00000000e+00   0.00000000e+00   0.00000000e+00\n",
      "    1.00000000e+00]]\n"
     ]
    }
   ],
   "source": [
    "A=tnp.eye(5)\n",
    "for x in CELL:\n",
    "    S+=x.L\n",
    "    if x.IsThick():\n",
    "        A[:]=x.GetA()*A\n",
    "A4=A*A*A*A\n",
    "print \"A4=\\n\",A4       "
   ]
  },
  {
   "cell_type": "code",
   "execution_count": 40,
   "metadata": {
    "collapsed": false
   },
   "outputs": [
    {
     "name": "stdout",
     "output_type": "stream",
     "text": [
      "[[ -7.49366785e-05  -4.04960458e-06   0.00000000e+00   0.00000000e+00\n",
      "    2.45537924e-06]\n",
      " [ -1.36839549e-05  -7.49366785e-05   0.00000000e+00   0.00000000e+00\n",
      "    6.03111776e-07]\n",
      " [  0.00000000e+00   0.00000000e+00   2.18665984e-05  -1.02791404e-05\n",
      "    0.00000000e+00]\n",
      " [  0.00000000e+00   0.00000000e+00  -7.95833266e-08   2.18665984e-05\n",
      "    0.00000000e+00]\n",
      " [  0.00000000e+00   0.00000000e+00   0.00000000e+00   0.00000000e+00\n",
      "    0.00000000e+00]]\n"
     ]
    }
   ],
   "source": [
    "Ao=np.mat([[ 6.612167E-5, 5.452182E-1, 0.000000E+0, 0.000000E+00, 3.152215E-2], \n",
    "           [-1.834128E+0, 6.612167E-5, 0.000000E+0, 0.000000E+00, 5.781948E-2],     \n",
    "           [ 0.000000E+0, 0.000000E+0,-2.890332E-5,-1.208787E+01, 0.000000E+0],\n",
    "           [ 0.000000E+0, 0.000000E+0, 8.272757E-2,-2.890332E-05, 0.000000E+0],\n",
    "           [ 0.000000E+0, 0.000000E+0, 0.000000E+0, 0.000000E+00, 1.000000E+0]])\n",
    "diff=A4-Ao\n",
    "print diff"
   ]
  },
  {
   "cell_type": "markdown",
   "metadata": {},
   "source": [
    "#### Extending the Utility Class"
   ]
  },
  {
   "cell_type": "code",
   "execution_count": 41,
   "metadata": {
    "collapsed": false
   },
   "outputs": [],
   "source": [
    "class tnp:\n",
    "    \"\"\"\n",
    "    A tiny utility class for TracyPy\n",
    "    \"\"\"\n",
    "    \n",
    "    def zeros(m, n):\n",
    "        \"\"\"Creates a (m, n) matrix filled with zeros.\"\"\"\n",
    "        return np.matrix(np.zeros((m,n)))\n",
    "\n",
    "    zeros = staticmethod(zeros)\n",
    "\n",
    "    def eye(n):\n",
    "        \"\"\"Creates a (n, n) unit matrix.\"\"\"\n",
    "        return np.asmatrix(np.eye(n))\n",
    "\n",
    "    eye = staticmethod(eye)\n",
    "\n",
    "    def randomat(m, n):\n",
    "        \"\"\"Creates a (m, n) matrix filled with random numbers between 0 and 1.\"\"\"\n",
    "        return np.matrix(np.random.random((n,m)))\n",
    "\n",
    "    randomat = staticmethod(randomat)\n",
    "\n",
    "    def colvec(param):\n",
    "        \"\"\"Creates a column vector by using matrix.\"\"\"\n",
    "        if type(param) == type(1):\n",
    "            if param <= 0:\n",
    "                raise Exception(\">> colvec(n), if n is int, n>0!\")\n",
    "            return np.asmatrix(np.zeros((param, 1), dtype=np.float))\n",
    "\n",
    "        if type(param) == type([]):\n",
    "            y=[]\n",
    "            for c in param:\n",
    "                y.append(c)\n",
    "        return np.matrix(y).T\n",
    "\n",
    "    colvec = staticmethod(colvec)\n",
    "    \n",
    "    ############################\n",
    "    #  New Methods \n",
    "    ############################\n",
    "    \n",
    "    def IsStable(A):\n",
    "        OK = False\n",
    "        tracex = A[0,0] + A[1,1]\n",
    "        if math.fabs(tracex) < 2:\n",
    "            tracey = A[2,2] + A[3,3]\n",
    "            if math.fabs(tracey) < 2:\n",
    "                OK = True\n",
    "        return OK\n",
    "\n",
    "    IsStable = staticmethod(IsStable)\n",
    "    \n",
    "    def GetTwissAux(A, n, a, b, g, t):\n",
    "        a11 = A[n,n] # = Math.Cos(t) + a * Math.Sin(t)\n",
    "        a12 = A[n,n + 1] # = b * Math.Sin(t)\n",
    "        a21 = A[n + 1,n] # = - g * Math.Sin(t)\n",
    "        a22 = A[n + 1,n + 1] # = Math.Cos(t) - a * Math.Sin(t)\n",
    "        c = (a11 + a22) / 2.0 # = Math.Cos( t )\n",
    "        if c >= 1.0:\n",
    "            #if(TwissWarning != 0)\n",
    "            Console.WriteLine(\" GetABG/ unstable solution found.\\n\")\n",
    "            return False\n",
    "        elif c <= -1.0:\n",
    "            #if(TwissWarning != 0)\n",
    "            Console.WriteLine(\" GetABG/ unstable solution found.\\n\")\n",
    "            return False\n",
    "        else: # stable\n",
    "            s = math.sqrt(1.0 - c * c) # = Abs( Math.Sin(t) )\n",
    "            if a12 < 0:\n",
    "                s = (-s) # because b > 0\n",
    "            a = (a11 - a22) / (2 * s)\n",
    "            b = a12 / s\n",
    "            g = -a21 / s\n",
    "            # get fractional tunes\n",
    "            if c == 0.0:\n",
    "                if s > 0:\n",
    "                    t = 0.25\n",
    "                else:\n",
    "                    t = 0.75\n",
    "            else:\n",
    "                t = math.atan(s / c) / math.pi / 2.0\n",
    "                if c < 0:\n",
    "                    t = t + 0.5\n",
    "                if (c > 0) and (s < 0):\n",
    "                    t = t + 1.0\n",
    "            return True\n",
    "\n",
    "    GetTwissAux = staticmethod(GetTwissAux)\n",
    "\n",
    "    def GetAngle(x, y):\n",
    "        if math.fabs(x) > 1.0E-16:\n",
    "            z = math.atan(y / x)\n",
    "            if x < 0.0:\n",
    "                if y >= 0.0:\n",
    "                    z = z + math.pi\n",
    "                else:\n",
    "                    z = z - math.pi\n",
    "        else:\n",
    "            if y >= 0.0:\n",
    "                z = math.pi / 2.0\n",
    "            else:\n",
    "                z = -math.pi / 2.0\n",
    "        return z\n",
    "\n",
    "    GetAngle = staticmethod(GetAngle)\n"
   ]
  },
  {
   "cell_type": "markdown",
   "metadata": {},
   "source": [
    "#### Belement Class"
   ]
  },
  {
   "cell_type": "markdown",
   "metadata": {},
   "source": [
    "A beam line is a series of **Belement** objects. Each **Belement** object holds one **Element** object, and various beam line properties at that location."
   ]
  },
  {
   "cell_type": "code",
   "execution_count": 42,
   "metadata": {
    "collapsed": false
   },
   "outputs": [],
   "source": [
    "class Belement:\n",
    "\n",
    "    def __init__(self,Elem=None):\n",
    "        self.Elem=Elem\n",
    "        self._allocData()\n",
    "        \n",
    "    def _allocData(self):\n",
    "        self.Path=tnp.colvec(5)\n",
    "        self.PathRef=tnp.colvec(5)\n",
    "        self.TwissH=tnp.colvec(5)\n",
    "        self.TwissV=tnp.colvec(5)\n",
    "        self.Eta=tnp.colvec(5)\n",
    "        self.S=0.0;\n",
    "        \n",
    "    def Pass(self,v):\n",
    "        self.Elem.Pass(v)\n",
    "\n",
    "    def PassM(self, M):\n",
    "        self.Elem.PassM(M,self.PathRef)\n",
    "\n",
    "    def PassL(self, x):\n",
    "        self.Elem.PassL(x,self.PathRef)\n",
    "        \n",
    "    def SetPath(self,v):\n",
    "        self.Elem.Pass(v)\n",
    "        self.Path[:]=v\n",
    "\n",
    "    def SetRef(self):\n",
    "        self.PathRef[:]=self.Path\n",
    "        \n",
    "    def PassTwiss(self, twissH, twissV, Belem_prev):\n",
    "        x13 = tnp.colvec(5) \n",
    "        x24 = tnp.colvec(5) \n",
    "        ax = twissH[0]; ay = twissV[0]\n",
    "        bx = twissH[1]; by = twissV[1]\n",
    "        sbx = math.sqrt(bx)\n",
    "        sby = math.sqrt(by)\n",
    "        _dP = self.PathRef[4]\n",
    "        TH = twissH[3]\n",
    "        TV = twissV[3]\n",
    "        x13[0] = sbx; x13[1] = -ax / sbx\n",
    "        x13[2] = sby; x13[3] = -ay / sby\n",
    "        x13[4] = _dP\n",
    "        x24[0] = 0.0; x24[1] = 1 / sbx\n",
    "        x24[2] = 0.0; x24[3] = 1 / sby\n",
    "        x24[4] = _dP\n",
    "        for i in range(4):\n",
    "            x13[i] += Belem_prev.PathRef[i]\n",
    "            x24[i] += Belem_prev.PathRef[i]\n",
    "        c1 = x13[0]; c2 = x24[0]\n",
    "        c3 = x13[1]; c4 = x24[1]\n",
    "        self.Elem.PassL(x13, Belem_prev.PathRef)\n",
    "        self.Elem.PassL(x24, Belem_prev.PathRef)\n",
    "        x13[0:4] = x13[0:4]-self.PathRef[0:4]\n",
    "        x24[0:4] = x24[0:4]-self.PathRef[0:4]\n",
    "        if self.Elem.IsThick():\n",
    "            dTx = self.Elem.A[0,0] * bx - self.Elem.A[0,1] * ax\n",
    "            dTy = self.Elem.A[2,2] * by - self.Elem.A[2,3] * ay\n",
    "            dTx = tnp.GetAngle(dTx, self.Elem.A[0,1])\n",
    "            dTy = tnp.GetAngle(dTy, self.Elem.A[2,3])\n",
    "        else:\n",
    "            dTx = 0.0\n",
    "            dTy = 0.0\n",
    "        c1 = x13[0]; c2 = x24[0]\n",
    "        c3 = x13[1]; c4 = x24[1]\n",
    "        twissH[0] = -(c1 * c3 + c2 * c4)\n",
    "        twissH[1] = c1 * c1 + c2 * c2\n",
    "        twissH[2] = c3 * c3 + c4 * c4\n",
    "        twissH[3] = TH + dTx / 2.0 / math.pi\n",
    "        c1 = x13[2]; c2 = x24[2]\n",
    "        c3 = x13[3]; c4 = x24[3]\n",
    "        twissV[0] = -(c1 * c3 + c2 * c4)\n",
    "        twissV[1] = c1 * c1 + c2 * c2\n",
    "        twissV[2] = c3 * c3 + c4 * c4\n",
    "        twissV[3] = TV + dTy / 2.0 / math.pi      "
   ]
  },
  {
   "cell_type": "markdown",
   "metadata": {},
   "source": [
    "#### BeamLine Class"
   ]
  },
  {
   "cell_type": "code",
   "execution_count": 43,
   "metadata": {
    "collapsed": false
   },
   "outputs": [],
   "source": [
    "class BeamLine:\n",
    "    \n",
    "    def __init__(self, Line=None, Sym=1):\n",
    "        self.Belem=[]\n",
    "        self.Symmetry=1\n",
    "        self.dP=0.0\n",
    "        self.TotalLength=0.0;\n",
    "        if Line!=None:\n",
    "            self.SetLine(Line,Sym)\n",
    "\n",
    "    def SetLine(self, Line, Sym):\n",
    "        self.Symmetry=Sym\n",
    "        self.Belem=[]\n",
    "        self.TotalLength=0.0;\n",
    "        if Line!=None:\n",
    "            for elem in Line:\n",
    "                belem=Belement(elem)\n",
    "                self.Belem.append(belem)\n",
    "            S=0.0\n",
    "            for belem in self.Belem:\n",
    "                elem=belem.Elem\n",
    "                S+=elem.L\n",
    "                belem.S=S\n",
    "            self.TotalLength=self.Belem[len(self.Belem)-1].S*Sym\n",
    "    \n",
    "    def List(self):\n",
    "        for belem in self.Belem:\n",
    "            elem=belem.Elem\n",
    "            print \"  %-10s %12.6f %12.6f\" %( elem.Name,elem.L, belem.S )\n",
    "    \n",
    "    def SetdP(self,dP):\n",
    "        if math.fabs(self.dP-dP) > 1.0E-30:\n",
    "            #print \"SetdP(%8.1E)\" % (dP)\n",
    "            self.dP=dP\n",
    "            for belem in self.Belem:\n",
    "                belem.Elem.SetdP(dP)\n",
    "    \n",
    "    def Pass(self, v):\n",
    "        self.SetdP(v[4])\n",
    "        for belem in self.Belem:\n",
    "            belem.Pass(v)\n",
    "\n",
    "    def SetPath(self, v):\n",
    "        self.SetdP(v[4])\n",
    "        for belem in self.Belem:\n",
    "            belem.SetPath(v)\n",
    "\n",
    "    def SetRef(self):\n",
    "        for belem in self.Belem:\n",
    "            belem.SetRef()\n",
    "\n",
    "    def PassL(self, v, vo=None):\n",
    "        self.SetdP(v[4])\n",
    "        if vo==None:\n",
    "            vo=self.Belem[0].PathRef\n",
    "            \n",
    "        for belem in self.Belem:\n",
    "            belem.PassL(v,vo)\n",
    "            vo=belem.PathRef\n",
    "            \n",
    "    def PassM(self, M):\n",
    "        self.SetdP(M[0,4])\n",
    "        for belem in self.Belem:\n",
    "            belem.PassM(M)\n",
    "\n",
    "    def PassTwiss(self, twissH, twissV):\n",
    "        prev = self.Belem[0]\n",
    "        for C in self.Belem:\n",
    "            C = enumerator.Current\n",
    "            C.PassTwiss(twissH, twissV, prev)\n",
    "            C.TwissH[:] = twissH[n]\n",
    "            C.TwissV[:] = twissV[n]\n",
    "            prev = C\n",
    "        \n",
    "    def SetA44(self, dp):\n",
    "        M = tnp.eye(5)\n",
    "        for i in range(5):\n",
    "            M[i,4] = dp\n",
    "        self.PassM(M)\n",
    "        self.A44[:]=M\n",
    "\n",
    "    def CaclA44(self, dp):\n",
    "        self.SetA44(dp)\n",
    "        if self.Symmetry > 1:\n",
    "            for n in range(self.Symmetry-1):\n",
    "                self.A44[:]=self.A44*self.A44\n",
    "\n",
    "    def PassTwiss(self, twissH, twissV):\n",
    "        prev = self.Belem[0]\n",
    "        for C in self.Belem:\n",
    "            C.PassTwiss(twissH, twissV, prev)\n",
    "            C.TwissH[:]=twissH\n",
    "            C.TwissV[:]=twissV\n",
    "            prev = C\n",
    "\n",
    "    def ListTwiss(self):\n",
    "        print  \n",
    "        print  \"------------------------------------------------------------------------------------------------\"\n",
    "        print  \"                  L[m]       S[m]          Bx[m]      Etax[m]    Phx        By[m]       Phy\"\n",
    "        print  \"------------------------------------------------------------------------------------------------\"\n",
    "        i=0\n",
    "        for C in self.Belem:\n",
    "            L=C.Elem.L\n",
    "            S=C.S\n",
    "            #if (S1<=s) && (s<=S2))\n",
    "            name=C.Elem.Name\n",
    "            TH=C.TwissH[3]\n",
    "            TV=C.TwissV[3]\n",
    "            bx=C.TwissH[1]\n",
    "            by=C.TwissV[1]\n",
    "            etax=C.Eta[0]\n",
    "            print \"%4d: %-8s %10.5f %10.5f    %10.5f %10.5f %10.5f %10.5f  %10.5f\" %(i, name, L, S, bx, etax, TH, by, TV)\n",
    "            i+=1\n",
    "        print  \n",
    "        print\n",
    "\n",
    "    def SeriesS(self):\n",
    "        nmax=len(self.Belem)\n",
    "        Z=np.zeros(nmax)\n",
    "        n=0\n",
    "        while n<nmax:\n",
    "            Z[n]=self.Belem[n].S\n",
    "            n+=1\n",
    "        return Z\n",
    "\n",
    "    def SeriesPathRef(self,m):\n",
    "        nmax=len(self.Belem)\n",
    "        Z=np.zeros(nmax)\n",
    "        n=0\n",
    "        while n<nmax:\n",
    "            Z[n]=self.Belem[n].PathRef[m]\n",
    "            n+=1\n",
    "        return Z\n",
    "    \n",
    "    def SeriesTwissH(self,m):\n",
    "        nmax=len(self.Belem)\n",
    "        Z=np.zeros(nmax)\n",
    "        n=0\n",
    "        while n<nmax:\n",
    "            Z[n]=self.Belem[n].TwissH[m]\n",
    "            n+=1\n",
    "        return Z\n",
    "    \n",
    "    def SeriesTwissV(self,m):\n",
    "        nmax=len(self.Belem)\n",
    "        Z=np.zeros(nmax)\n",
    "        n=0\n",
    "        while n<nmax:\n",
    "            Z[n]=self.Belem[n].TwissV[m]\n",
    "            n+=1\n",
    "        return Z\n",
    "\n",
    "    def SeriesEta(self,m):\n",
    "        nmax=len(self.Belem)\n",
    "        Z=np.zeros(nmax)\n",
    "        n=0\n",
    "        while n<nmax:\n",
    "            Z[n]=self.Belem[n].Eta[m]\n",
    "            n+=1\n",
    "        return Z\n"
   ]
  },
  {
   "cell_type": "code",
   "execution_count": 44,
   "metadata": {
    "collapsed": false
   },
   "outputs": [],
   "source": [
    "SYM = Marker(\"SYM\")\n",
    "QD  = Quad(\"QD\", 1.0E-01, -2.491364)\n",
    "L1  = Drift(\"L1\", 5.468750E-01)\n",
    "B   = Bend(\"B\", 1.05, 1.5E+1, 7.5, 7.5, 0.0)\n",
    "L2  = Drift(\"L2\", 4.968750E-01)\n",
    "QF  = Quad(\"QF\", 1.5E-01,2.762167)\n",
    "L3  = Drift(\"L3\", 2.09375)\n",
    "\n",
    "CELL=[SYM, QD , L1 , B , L2 , QF , QF , L3 , QD ,\n",
    "           QD , L1 , B , L2 , QF , QF , L2 , B , L1 , QD ,\n",
    "           QD , L1 , B , L2 , QF , QF , L2 , B , L1 , QD ,\n",
    "           QD , L3 , QF , QF , L2 , B , L1 , QD]\n",
    "BL = BeamLine(CELL) \n",
    "#BL.List()"
   ]
  },
  {
   "cell_type": "markdown",
   "metadata": {},
   "source": [
    "#### Ring Class"
   ]
  },
  {
   "cell_type": "code",
   "execution_count": 45,
   "metadata": {
    "collapsed": false
   },
   "outputs": [],
   "source": [
    "class Ring(BeamLine):\n",
    "    \n",
    "    def __init__(self, BL=None, Sym=1):\n",
    "        BeamLine.__init__(self, BL, Sym)\n",
    "        self._allocData()\n",
    "        if BL!=None:\n",
    "            self.TotalLength=self.Belem[len(self.Belem)-1].S*Sym\n",
    "        self.Symmetry=Sym\n",
    "\n",
    "    def _allocData(self):\n",
    "        self.FixedPoint=tnp.colvec(5)\n",
    "        self.TwissH=tnp.colvec(5)\n",
    "        self.TwissV=tnp.colvec(5)\n",
    "        self.Eta=tnp.colvec(5)\n",
    "        self.S=0.0\n",
    "        self.CODeps = 1.0E-15\n",
    "        self.CODerror = 0\n",
    "        self.dPcommon = 1.0E-6\n",
    "        self.A44 = tnp.eye(5)\n",
    "        self.TuneH=0.0\n",
    "        self.TuneV=0.0\n",
    "        self.FracTuneH=0.0\n",
    "        self.FracTuneV=0.0\n",
    "        self.ChromH=0.0\n",
    "        self.ChromV=0.0\n",
    "        self.Integral1        =0.0       \n",
    "        self.Integral2        =0.0       \n",
    "        self.Integral3        =0.0       \n",
    "        self.Integral4        =0.0       \n",
    "        self.Integral5        =0.0       \n",
    "        self.RevolutionTime   =0.0       \n",
    "        self.RevolutionFreq   =0.0       \n",
    "        self.dJ               =0.0       \n",
    "        self.Je               =0.0       \n",
    "        self.Jx               =0.0       \n",
    "        self.Jz               =0.0       \n",
    "        self.MomCompaction    =0.0       \n",
    "        #self.TotalLength      =0.0\n",
    "        self.QFforTune = QF\n",
    "        self.QDforTune = QD\n",
    "        self.QforDisp = None\n",
    "        self.PosForDisp = 0\n",
    "        self.SFforChrom=None\n",
    "        self.SDforChrom=None\n",
    "        self.dKchromH=0.01\n",
    "        self.dKchromV=0.01\n",
    "        self.epsChromH=1.0E-6\n",
    "        self.epsChromV=1.0E-6\n",
    "\n",
    "    def GetCOD(self,dp):\n",
    "        r0 = tnp.colvec(5)\n",
    "        r1 = tnp.colvec(5)\n",
    "        dr = tnp.colvec(5)\n",
    "        self.SetdP(dp)\n",
    "        self.FixedPoint[4] = dp\n",
    "        r0[:]=self.FixedPoint\n",
    "        self.SetPath(r0)\n",
    "        self.SetRef()\n",
    "        \n",
    "        B = tnp.eye(4)\n",
    "        Bi = tnp.eye(4)\n",
    "        E = tnp.eye(4)\n",
    "        r0[:]=self.FixedPoint\n",
    "        eps = 1.0E20\n",
    "        count = 0\n",
    "        while (eps > self.CODeps) and (count < 100):\n",
    "            self.SetA44(dp)\n",
    "            A44=self.A44[0:4,0:4] #A44.Dim = 4;\n",
    "            B[:]=A44-E;\n",
    "            B[:]=B.I # B.Inv(Bi);\n",
    "            r1[:]=r0\n",
    "            self.Pass(r1)\n",
    "            dr[0:4]=r1[0:4]-r0[0:4]\n",
    "            dr[0:4] = B*dr[0:4]\n",
    "            r0[0:4]=r0[0:4]-dr[0:4]\n",
    "            eps = nla.norm(dr[0:4])\n",
    "            r0[4] = self.FixedPoint[4]\n",
    "            self.CODerror = eps\n",
    "            count+=1\n",
    "            self.SetPath(r0)\n",
    "            self.SetRef()\n",
    "        self.FixedPoint = r0;\n",
    "        #print \"GetCOD dP=%8.1E  x=%15.7E eps=%12.3E count=%d\" % (dp, r0[0], eps, count)\n",
    "        if eps <= self.CODeps:\n",
    "            return True\n",
    "        return False\n",
    "\n",
    "    def GetTwissAux(self, A, n):#, a, b, g, t):\n",
    "        a11 = A[n,n]\n",
    "        a12 = A[n,n + 1]\n",
    "        a21 = A[n + 1,n]\n",
    "        a22 = A[n + 1,n + 1]\n",
    "        c = (a11 + a22) / 2.0\n",
    "        if c >= 1.0:\n",
    "            return [False]\n",
    "        elif c <= -1.0:\n",
    "            return [False]\n",
    "        s = math.sqrt(1.0 - c * c)\n",
    "        if a12 < 0:\n",
    "            s = (-1.0) * s\n",
    "        a = (a11 - a22) / (2 * s)\n",
    "        b = a12 / s\n",
    "        g = -a21 / s\n",
    "        if c == 0.0:\n",
    "            if s > 0:\n",
    "                t = 0.25\n",
    "            else:\n",
    "                t = 0.75\n",
    "        else:\n",
    "            t = math.atan(s / c) / math.pi / 2.0\n",
    "            if c < 0:\n",
    "                t = t + 0.5\n",
    "            if (c > 0) and (s < 0):\n",
    "                t = t + 1.0\n",
    "        return [True, a, b, g, t]\n",
    "\n",
    "    \n",
    "    def GetTwiss0(self, Amat):\n",
    "        h=self.GetTwissAux(Amat, 0)\n",
    "        if h[0]:\n",
    "            v=self.GetTwissAux(Amat, 2)\n",
    "            if v[0]:\n",
    "                self.TwissH[0] = h[1]\n",
    "                self.TwissH[1] = h[2]\n",
    "                self.TwissH[2] = h[3]\n",
    "                self.TwissH[3] = 0.0\n",
    "                self.TwissH[4] = 0.0\n",
    "                self.TwissV[0] = v[1]\n",
    "                self.TwissV[1] = v[2]\n",
    "                self.TwissV[2] = v[3]\n",
    "                self.TwissV[3] = 0.0\n",
    "                self.TwissV[4] = 0.0\n",
    "                self.FracTuneH=h[4]\n",
    "                self.FracTuneV=v[4]\n",
    "                return True\n",
    "            else:\n",
    "                return False\n",
    "        else:\n",
    "            return False\n",
    "\n",
    "    def GetTwiss0Vec(self, Amat):\n",
    "        return self.GetTwiss0(Amat)\n",
    "\n",
    "    def GetTwiss(self, eta): \n",
    "        # if eta=0 no eta, 1 calc eta.\n",
    "        TuneHdp = 0.0\n",
    "        TuneVdp = 0.0\n",
    "        noc=len(self.Belem)\n",
    "        path0=np.zeros(noc)\n",
    "        path1=np.zeros(noc)\n",
    "        path2=np.zeros(noc)\n",
    "        path3=np.zeros(noc)\n",
    "        rdp = tnp.colvec(5) # Array.CreateInstance(Double, 5)\n",
    "        OK = True\n",
    "        BelemFinal=self.Belem[noc-1]\n",
    "        if eta == 1:\n",
    "            if self.GetCOD(self.dPcommon):\n",
    "                self.SetA44(self.dPcommon)\n",
    "                rdp[:]=self.FixedPoint\n",
    "                path0[:]=self.SeriesPathRef(0)\n",
    "                path1[:]=self.SeriesPathRef(1)\n",
    "                path2[:]=self.SeriesPathRef(2)\n",
    "                path3[:]=self.SeriesPathRef(3)\n",
    "                OK = self.GetTwiss0Vec(self.A44) \n",
    "                if OK:\n",
    "                    self.PassTwiss(self.TwissH, self.TwissV)\n",
    "                    TuneHdp = BelemFinal.TwissH[3] * self.Symmetry\n",
    "                    TuneVdp = BelemFinal.TwissV[3] * self.Symmetry\n",
    "                else:\n",
    "                    return False\n",
    "            else:\n",
    "                return False\n",
    "        self.FixedPoint.fill(0.0)\n",
    "        self.GetCOD(0.0)\n",
    "        self.SetA44(0)\n",
    "        OK = self.GetTwiss0Vec(self.A44) #, self.TwissH, self.TwissV)\n",
    "        if OK:\n",
    "            self.PassTwiss(self.TwissH, self.TwissV)\n",
    "            self.TuneH = BelemFinal.TwissH[3] * self.Symmetry\n",
    "            self.TuneV = BelemFinal.TwissV[3] * self.Symmetry\n",
    "        else:\n",
    "            return False\n",
    "\n",
    "        if eta == 1:\n",
    "            self.ChromH = (TuneHdp - self.TuneH) / self.dPcommon\n",
    "            self.ChromV = (TuneVdp - self.TuneV) / self.dPcommon\n",
    "        else:\n",
    "            self.ChromH = 0.0\n",
    "            self.ChromV = 0.0\n",
    "        if eta == 1:\n",
    "            idp = 1.0 / self.dPcommon\n",
    "            i = 0\n",
    "            while i < noc :\n",
    "                C = self.Belem[i]#while i < Belem.Length:\n",
    "                C.Eta[0] = (path0[i] - C.PathRef[0]) * idp\n",
    "                C.Eta[1] = (path1[i] - C.PathRef[1]) * idp\n",
    "                C.Eta[2] = (path2[i] - C.PathRef[2]) * idp\n",
    "                C.Eta[3] = (path3[i] - C.PathRef[3]) * idp\n",
    "                i += 1\n",
    "            self.Eta[:]=self.Belem[0].Eta\n",
    "        else:\n",
    "            for C in self.Belem:\n",
    "                C.Eta.fill(0.0)\n",
    "        #else\n",
    "        #{\n",
    "        #    C = Belem[0];\n",
    "        #    while (C != null)\n",
    "        #    {\n",
    "        #        C.Eta[0] = (C.Path[0] - C.PathRef[0]) * idp;\n",
    "        #        C.Eta[1] = (C.Path[1] - C.PathRef[1]) * idp;\n",
    "        #        C.Eta[2] = (C.Path[2] - C.PathRef[2]) * idp;\n",
    "        #        C.Eta[3] = (C.Path[3] - C.PathRef[3]) * idp;\n",
    "        #        C = C.next();\n",
    "        #    }\n",
    "        #}\n",
    "        self.SetdP(0.0)\n",
    "        return True\n",
    "\n",
    "    def CalcIntegral(self):\n",
    "        \"\"\" <summary>\n",
    "         Calculate synchrotron integrals by using the Sand's formulae.\n",
    "         This is valid in the 4x5 space, not for 6x6.\n",
    "         </summary>\n",
    "        \"\"\" \n",
    "        I1 = 0.0\n",
    "        I2 = 0.0\n",
    "        I3 = 0.0\n",
    "        I4 = 0.0\n",
    "        I5 = 0.0\n",
    "        C = self.Belem[0]\n",
    "        Cprev = C\n",
    "        i = 0\n",
    "        for C in self.Belem:#while i < Belem.Length:\n",
    "            E = C.Elem\n",
    "            if E.IsBend():\n",
    "                B = E\n",
    "                Bangle = B.T\n",
    "                if math.fabs(Bangle) > 1.0E-10:\n",
    "                    Irho = B.Irho\n",
    "                    L = B.L\n",
    "                    ttt = L * Irho * Irho\n",
    "                    I2 = I2 + ttt\n",
    "                    ttt = L * math.fabs(Irho * Irho * Irho)\n",
    "                    I3 = I3 + ttt\n",
    "                    eta0 = Cprev.Eta[0]\n",
    "                    etap0 = Cprev.Eta[1]\n",
    "                    t1 = math.pi * B.T1 / 180.0\n",
    "                    t2 = math.pi * B.T2 / 180.0\n",
    "                    a0 = Cprev.TwissH[0]\n",
    "                    b0 = Cprev.TwissH[1]\n",
    "                    g0 = Cprev.TwissH[2]\n",
    "                    bp0 = -2.0 * a0\n",
    "                    Irho2 = Irho * Irho\n",
    "                    Irho3 = Irho * Irho2\n",
    "                    if t1 != 0.0:\n",
    "                        etap0 = etap0 + eta0 * Irho * math.tan(t1)\n",
    "                    K = -E.K\n",
    "                    KIrho2 = K - Irho * Irho\n",
    "                    if K == 0.0:\n",
    "                        KK0 = Irho\n",
    "                    else:\n",
    "                        KK0 = math.sqrt(math.fabs(KIrho2))\n",
    "                    L0 = L\n",
    "                    KL = KK0 * L0\n",
    "                    K2L = KK0 * KL\n",
    "                    K3L = KK0 * K2L\n",
    "                    K2L2 = KL * KL\n",
    "                    K3L2 = KK0 * K2L2\n",
    "                    K3L3 = K3L2 * L0\n",
    "                    K4L3 = KK0 * K3L3\n",
    "                    K5L3 = KK0 * K4L3\n",
    "                    if KIrho2 > 0.0:\n",
    "                        sinKL = math.sinh(KL)\n",
    "                        cosKL = math.cosh(KL)\n",
    "                        aveta = eta0 * sinKL / KL - etap0 * (1.0 - cosKL) / K2L - Irho * (KL - sinKL) / K3L\n",
    "                    else:\n",
    "                        sinKL = math.sin(KL)\n",
    "                        cosKL = math.cos(KL)\n",
    "                        aveta = eta0 * sinKL / KL + etap0 * (1.0 - cosKL) / K2L + Irho * (KL - sinKL) / K3L\n",
    "                    avner3 = K * Irho * aveta\n",
    "                    if (t1 != 0.0) or ((t2 != 0.0) and (t2 < 100.0)):\n",
    "                        if KIrho2 > 0.0:\n",
    "                            eta2 = eta0 * cosKL + etap0 * sinKL / KK0 - Irho / KK0 / KK0 * (1.0 - cosKL)\n",
    "                        else:\n",
    "                            eta2 = eta0 * cosKL + etap0 * sinKL / KK0 + Irho / KK0 / KK0 * (1.0 - cosKL)\n",
    "                        avner3 = avner3 + 0.5 * (eta0 * math.tan(t1) + eta2 * math.tan(t2)) / L * Irho2\n",
    "                        bp0 = bp0 + 2.0 * b0 * Irho * math.tan(t1)\n",
    "                        a0 = -bp0 / 2.0\n",
    "                        g0 = (1.0 + a0 * a0) / b0\n",
    "                    avh = g0 * eta0 * eta0 - bp0 * eta0 * etap0 + b0 * etap0 * etap0\n",
    "                    if (K != 0.0) and (KIrho2 > 0.0):\n",
    "                        avh = avh + 2.0 * L * Irho * (+(g0 * eta0 \n",
    "                            - 0.5 * bp0 * etap0) * (KL - sinKL) / K3L2 \n",
    "                            - (-0.5 * bp0 * eta0 + b0 * etap0) * (1.0 - cosKL) / K2L2)\n",
    "                        avh = avh + L * L * Irho2 * (g0 * (3.0 * KL \n",
    "                            - 4 * sinKL + sinKL * cosKL) / (2 * K5L3) \n",
    "                            + 0.5 * bp0 * (1.0 - cosKL) * (1.0 - cosKL) / K4L3 \n",
    "                            - b0 * (KL - cosKL * sinKL) / (2.0 * K3L3))\n",
    "                    else:\n",
    "                        avh = avh + 2.0 * L * Irho * (-(g0 * eta0 \n",
    "                            - 0.5 * bp0 * etap0) * (KL - sinKL) / K3L2 \n",
    "                            + (-0.5 * bp0 * eta0 + b0 * etap0) * (1.0 - cosKL) / K2L2)\n",
    "                        avh = avh + L * L * Irho2 * (g0 * (3.0 * KL - 4 * sinKL \n",
    "                            + sinKL * cosKL) / (2.0 * K5L3) \n",
    "                            + 0.5 * bp0 * (1.0 - cosKL) * (1.0 - cosKL) / K4L3 \n",
    "                            + b0 * (KL - cosKL * sinKL) / (2.0 * K3L3))\n",
    "                    ttt = L * Irho * aveta\n",
    "                    I1 = I1 + ttt\n",
    "                    ttt = L * aveta * Irho3 - 2.0 * L * avner3\n",
    "                    I4 = I4 + ttt\n",
    "                    ttt = L * math.fabs(Irho3) * avh\n",
    "                    I5 = I5 + ttt\n",
    "            Cprev = C\n",
    "            i += 1\n",
    "        self.Integral1 = I1 * self.Symmetry\n",
    "        self.Integral2 = I2 * self.Symmetry\n",
    "        self.Integral3 = I3 * self.Symmetry\n",
    "        self.Integral4 = I4 * self.Symmetry\n",
    "        self.Integral5 = I5 * self.Symmetry\n",
    "        self.RevolutionTime = self.TotalLength / 2.99793e8 # sec\n",
    "        self.RevolutionFreq = 1.0 / self.RevolutionTime # Hz\n",
    "        self.dJ = self.Integral4 / self.Integral2\n",
    "        self.Je = 2.0 + self.dJ\n",
    "        self.Jx = 1.0 - self.dJ\n",
    "        self.Jz = 1.0\n",
    "        self.MomCompaction = self.Integral1 / self.TotalLength\n",
    "        \n",
    "    def CalcEmittance(self, Ene):\n",
    "        \"\"\" <summary>\n",
    "         Calclates the natural emittance and related parapmeters\n",
    "         for a given energy of Ene [eV]. \n",
    "         </summary>\n",
    "         <param name=\"Ene\">The nonimal beam energy in [eV].</param>\n",
    "        \"\"\"\n",
    "        self.Energy = Ene # Energy in [eV]\n",
    "        EinGeV = self.Energy / 1.0e9\n",
    "        self.GammaE = EinGeV / 0.511E-3\n",
    "        self.RadLossU0 = 14.0792 * 1000.0 * EinGeV * EinGeV * EinGeV * EinGeV * self.Integral2 #eV\n",
    "        self.EnergySpread = math.sqrt(3.832E-13 * self.GammaE * self.GammaE / self.Je * self.Integral3 / self.Integral2)\n",
    "        self.NtlEmittance = 3.832E-13 * self.GammaE * self.GammaE * self.Integral5 / self.Integral2 / self.Jx\n",
    "        DTC = 2.0 * self.Energy * self.RevolutionTime / self.RadLossU0 #sec\n",
    "        self.DampingTimeX = DTC / self.Jx\n",
    "        self.DampingTimeZ = DTC / self.Jz\n",
    "        self.DampingTimeE = DTC / self.Je\n",
    " \n",
    "    def ListSynch(self):\n",
    "        print \"___________________________________________________________\"\n",
    "        print \n",
    "        print \"      P A R A M E T E R   L I S T  \"#O F %s\\n\", % Name\n",
    "        print \"___________________________________________________________\"\n",
    "        print \n",
    "        print \"  Energy    [GeV]   = %10.5f    \" % (self.Energy/1.0e9            )\n",
    "        print \"  Circumf.  [m]     = %10.5f    \" % (self.TotalLength             )\n",
    "        print \"  Rev. Time [nsec]  = %10.5f    \" % (self.RevolutionTime *1.0e9   )\n",
    "        print \"  Rev. Freq.[MHz]   = %10.5f    \" % (self.RevolutionFreq/1.0e6    )\n",
    "        print \"  Betatron Tune H   = %10.5f    \" % (self.TuneH                   )\n",
    "        print \"                V   = %10.5f    \" % (self.TuneV                   )\n",
    "        print \"  Beta Funtion  H   = %10.5f    \" % (self.TwissH[1]               )\n",
    "        print \"                V   = %10.5f    \" % (self.TwissV[1]               )\n",
    "        print \"  Dispersion    H   = %10.5f    \" % (self.Eta[0]              )\n",
    "        print \"  Mom. Compaction   =    %10.5E \" % (self.MomCompaction        )\n",
    "        print \"  Chromaticity   H  = %10.5f    \" % (self.ChromH                  )\n",
    "        print \"                 V  = %10.5f    \" % (self.ChromV                  )\n",
    "        print \"  Synch.Integral 1  = %10.5f    \" % (self.Integral1        )\n",
    "        print \"                 2  = %10.5f    \" % (self.Integral2        )\n",
    "        print \"                 3  = %10.5f    \" % (self.Integral3        )\n",
    "        print \"                 4  = %10.5f    \" % (self.Integral4        )\n",
    "        print \"                 5  = %10.5f    \" % (self.Integral5        )\n",
    "        print \"  Damp.Partition H  = %10.5f    \" % (self.Jx     )\n",
    "        print \"                 V  = %10.5f    \" % (self.Jz     )\n",
    "        print \"                 E  = %10.5f    \" % (self.Je     )\n",
    "        print \"  Rad. Loss [KeV]   =    %10.5E \" % (self.RadLossU0/1000.0    )\n",
    "        print \"  Energy Spread     =    %10.5E \" % (self.EnergySpread            )\n",
    "        print \"  Emittance         =    %10.5E \" % (self.NtlEmittance            )\n",
    "        print \"  Rad. Damping   H  =  %10.6f [msec]\" % (self.DampingTimeX*1000.0   )\n",
    "        print \"                 V  =  %10.6f [msec]\" % (self.DampingTimeZ*1000.0   )\n",
    "        print \"                 E  =  %10.6f [msec]\" % (self.DampingTimeE*1000.0   )\n",
    "\n",
    "    #\n",
    "    # Tune Fitting\n",
    "    #\n",
    "    \n",
    "    def SetQforTune(self, QF, QD):\n",
    "        self.QFforTune = QF\n",
    "        self.QDforTune = QD\n",
    "\n",
    "    def CalcTune(self, Kf, Kd):\n",
    "        res = True\n",
    "        self.QFforTune.SetK(Kf)\n",
    "        self.QDforTune.SetK(Kd)\n",
    "        if not self.GetTwiss(0):\n",
    "            self.TuneH = -100.0\n",
    "            self.TuneV = -100.0\n",
    "            res = False\n",
    "        return res\n",
    "\n",
    "    def tuneFit2(self, fx0, fy0, x0, y0, dx, dy, ex, ey, MaxLoop):\n",
    "        #A = tnp.eye(2)\n",
    "        B = tnp.eye(2)\n",
    "        x = x0\n",
    "        y = y0\n",
    "        epsx = 1.0E20\n",
    "        epsy = 1.0E20\n",
    "        Loop = 0\n",
    "        Kf = x\n",
    "        Kd = y\n",
    "        self.CalcTune(Kf, Kd)\n",
    "        Fx0 = self.TuneH\n",
    "        Fy0 = self.TuneV\n",
    "        while ((epsx > ex) or (epsy > ey)) and (Loop < MaxLoop):\n",
    "            Kf = x + dx\n",
    "            Kd = y\n",
    "            self.CalcTune(Kf, Kd)\n",
    "            Fx = self.TuneH\n",
    "            Fy = self.TuneV\n",
    "            B[0,0] = (Fx - Fx0) / dx\n",
    "            B[1,0] = (Fy - Fy0) / dx\n",
    "            Kf = x\n",
    "            Kd = y + dy\n",
    "            self.CalcTune(Kf, Kd)\n",
    "            Fx = self.TuneH\n",
    "            Fy = self.TuneV\n",
    "            B[0,1] = (Fx - Fx0) / dy\n",
    "            B[1,1] = (Fy - Fy0) / dy\n",
    "            #det = B[0][0] * B[1][1] - B[0][1] * B[1][0]\n",
    "            #if Math.Abs(det) < 1.0E-16:\n",
    "            #    return False\n",
    "            #A[0][0] = B[1][1] / det\n",
    "            #A[0][1] = -B[0][1] / det\n",
    "            #A[1][0] = -B[1][0] / det\n",
    "            #A[1][1] = B[0][0] / det\n",
    "            A=B.I\n",
    "            epsx = Fx0 - fx0\n",
    "            epsy = Fy0 - fy0\n",
    "            x = x - A[0,0] * epsx - A[0,1] * epsy\n",
    "            y = y - A[1,0] * epsx - A[1,1] * epsy\n",
    "            Kf = x\n",
    "            Kd = y\n",
    "            self.CalcTune(Kf, Kd)\n",
    "            Fx0 = self.TuneH\n",
    "            Fy0 = self.TuneV\n",
    "            epsx = Fx0 - fx0\n",
    "            epsy = Fy0 - fy0\n",
    "            if epsx < 0.0:\n",
    "                epsx = -1.0 * epsx\n",
    "            if epsy < 0.0:\n",
    "                epsy = -1.0 * epsy\n",
    "            Loop += 1\n",
    "        if (epsx <= ex) and (epsy <= ey):\n",
    "            return True\n",
    "        return False\n",
    "\n",
    "    def FitTune(self, Nux, Nuy, MaxLoop=100):\n",
    "        Kf = self.QFforTune.K\n",
    "        Kd = self.QDforTune.K\n",
    "        return self.tuneFit2(Nux, Nuy, Kf, Kd, 0.02, 0.02, 1.0E-5, 1.0E-5, MaxLoop)\n",
    "\n",
    "    #\n",
    "    # Dispersion Fitting\n",
    "    #\n",
    "    \n",
    "    def SetQforDisp(self, Q):\n",
    "        self.QforDisp = Q\n",
    "\n",
    "    def SetPosForDisp(self, n):\n",
    "        #print \"SetPosDisp(%d)\" % n\n",
    "        self.PosForDisp = n\n",
    "\n",
    "    def GetKforDisp(self):\n",
    "        return self.QforDisp.K\n",
    "    \n",
    "    def SetKforDisp(self,K):\n",
    "        return self.QforDisp.SetK(K)\n",
    "    \n",
    "    def GetDisp(self):\n",
    "        return self.Belem[self.PosForDisp].Eta[0]\n",
    "    \n",
    "    def CalcEta(self):\n",
    "        self.SetdP(self.dPcommon)\n",
    "        if not self.GetCOD(self.dPcommon):\n",
    "            print \"CalcEta(dP) faild!\"\n",
    "            return False\n",
    "        xdp=self.SeriesPathRef(0)\n",
    "        #x1=self.FixedPoint[0];\n",
    "        self.SetdP(0.0)\n",
    "        if not self.GetCOD(0.0):\n",
    "            print \"CalcEta(0) faild!\"\n",
    "            return False\n",
    "        self.SetRef()\n",
    "\n",
    "        for n in range(len(self.Belem)):\n",
    "            self.Belem[n].Eta[0]=(xdp[n]-self.Belem[n].PathRef[0])/self.dPcommon\n",
    "        #for n in range(len(self.Belem)):\n",
    "        #self.Belem[0].Eta[0]=(x1-self.FixedPoint[0])/self.dPcommon\n",
    "        #print \"CalcEta() gives \",self.Belem[0].Eta[0]\n",
    "        return True\n",
    "    \n",
    "    def FitDisp(self,etaTarget, repeatmax = 10, dK=1.0E-5):\n",
    "        k0 = self.GetKforDisp()\n",
    "        self.CalcEta()\n",
    "        eta=np.array([0.0,0.0])\n",
    "        eta[0]=self.GetDisp()\n",
    "        err=math.fabs(etaTarget - eta[0])     \n",
    "        n = 0\n",
    "        while (err > 1.0e-8) and (n < repeatmax):\n",
    "            k = k0 + dK\n",
    "            eta[0]=self.GetDisp()\n",
    "            self.SetKforDisp(k)\n",
    "            rc=self.CalcEta()\n",
    "            if rc==False:\n",
    "                print \"## GetTwiss(1) failed\"\n",
    "            eta[1] = self.GetDisp()\n",
    "            a = (eta[1] - eta[0]) / dK\n",
    "            k = (etaTarget - eta[0]) / a + k0\n",
    "            self.SetKforDisp(k)\n",
    "            self.CalcEta() # GetTwiss(1)\n",
    "            eta[1]= self.GetDisp()\n",
    "            err = math.fabs(eta[1]-etaTarget)\n",
    "            n+=1\n",
    "            eta[0] = eta[1]\n",
    "            k0 = k\n",
    "        if err < 1.0e-8:\n",
    "            return True\n",
    "        else:\n",
    "            return False\n",
    "    \n",
    "    #\n",
    "    # Chromaticity Fitting\n",
    "    #\n",
    "\n",
    "    def SetSextforChrom(self,SF,SD):\n",
    "        self.SFforChrom=SF\n",
    "        self.SDforChrom=SD\n",
    "\n",
    "    def GetSF(self):\n",
    "        return self.SFforChrom.K\n",
    "\n",
    "    def GetSD(self):\n",
    "        return self.SDforChrom.K\n",
    "\n",
    "    def SetSF(self, K):\n",
    "        self.SFforChrom.SetK(K)\n",
    "\n",
    "    def SetSD(self, K):\n",
    "        self.SDforChrom.SetK(K)\n",
    "\n",
    "    def SetKSforChrom(self, k1, k2):\n",
    "        self.SetSF(k1)\n",
    "        self.SetSD(k2)\n",
    "\n",
    "    def CalcChrom(self,Kf, Kd):\n",
    "        self.SetKSforChrom(Kf, Kd)\n",
    "        if self.GetTwiss(1):\n",
    "            return True, self.ChromH, self.ChromV\n",
    "        else:\n",
    "            return False, -1000.0, -1000.0\n",
    "\n",
    "    def SetChromParam(self, dkchromx, dkchromy, epschromx, epschromy):\n",
    "        self.dKchromH=dkchromx\n",
    "        self.dKchromV=dkchromy\n",
    "        self.epsChromH=epschromx\n",
    "        self.epsChromV=epschromy\n",
    "\n",
    "    def ChromFit2(self, fx0,fy0, x0, y0, dx, dy, ex, ey):\n",
    "        #print \"ChromFit2 starts\"\n",
    "        A = tnp.eye(2)\n",
    "        B = tnp.eye(2)\n",
    "        x = x0 \n",
    "        y = y0\n",
    "        epsx = 1.0E20\n",
    "        epsy = 1.0E20\n",
    "        count = 0;\n",
    "        self.CalcChrom(x, y)\n",
    "        Fx0 = self.ChromH\n",
    "        Fy0 = self.ChromV\n",
    "\n",
    "        while (epsx > ex) or (epsy > ey):\n",
    "            #print \"Loop=%3d  %12.5f %12.5f \" %(count, Fx0, Fy0)\n",
    "            self.CalcChrom(x + dx, y)\n",
    "            Fx = self.ChromH\n",
    "            Fy = self.ChromV\n",
    "            B[0,0] = (Fx - Fx0) / dx\n",
    "            B[1,0] = (Fy - Fy0) / dx\n",
    "            self.CalcChrom(x, y + dy)\n",
    "            Fx = self.ChromH\n",
    "            Fy = self.ChromV\n",
    "            B[0,1] = (Fx - Fx0) / dy\n",
    "            B[1,1] = (Fy - Fy0) / dy\n",
    "            d = B[0,0] * B[1,1] - B[0,1] * B[1,0]\n",
    "            ##if (d == (double)0.0) return (int)1;\n",
    "            if math.fabs(d) < 1.0E-30:\n",
    "                return False\n",
    "            #d = 1.0 / d\n",
    "            #A[0,0] = B[1,1] * d;\n",
    "            #A[0,1] = -B[0,1] * d;\n",
    "            #A[1,0] = -B[1,0] * d; A[1,1] = B[0,0] * d\n",
    "            A[:]=B.I\n",
    "            epsx = Fx0 - fx0\n",
    "            epsy = Fy0 - fy0\n",
    "            x = x - A[0,0] * epsx - A[0,1] * epsy\n",
    "            y = y - A[1,0] * epsx - A[1,1] * epsy\n",
    "            self.CalcChrom(x, y)\n",
    "            Fx0 = self.ChromH\n",
    "            Fy0 = self.ChromV\n",
    "\n",
    "            epsx = math.fabs(Fx0 - fx0)\n",
    "            epsy = math.fabs(Fy0 - fy0)\n",
    "            count+=1\n",
    "        return True\n",
    "\n",
    "    def FitChrom(self,Cx,Cy):\n",
    "        Kf = self.GetSF()\n",
    "        Kd = self.GetSD()\n",
    "        rc = self.ChromFit2(Cx, Cy, Kf, Kd, self.dKchromH, self.dKchromV, self.epsChromH, self.epsChromV)\n",
    "        if rc:\n",
    "            rc = self.GetTwiss(1)\n",
    "        return rc;\n",
    "\n"
   ]
  },
  {
   "cell_type": "markdown",
   "metadata": {},
   "source": [
    "#### Examples"
   ]
  },
  {
   "cell_type": "code",
   "execution_count": 46,
   "metadata": {
    "collapsed": false,
    "scrolled": true
   },
   "outputs": [
    {
     "name": "stdout",
     "output_type": "stream",
     "text": [
      "[[ -0.92387869  -0.20864553   0.           0.           0.        ]\n",
      " [  0.70189937  -0.92387869   0.           0.           0.        ]\n",
      " [  0.           0.          -0.38268506 -11.16773704   0.        ]\n",
      " [  0.           0.           0.07643018  -0.38268506   0.        ]\n",
      " [  0.           0.           0.           0.           0.        ]]\n",
      "[[ -0.92387869  -0.20864553   0.           0.        ]\n",
      " [  0.70189937  -0.92387869   0.           0.        ]\n",
      " [  0.           0.          -0.38268506 -11.16773704]\n",
      " [  0.           0.           0.07643018  -0.38268506]]\n"
     ]
    }
   ],
   "source": [
    "BR = Ring(CELL,4)\n",
    "BR.SetA44(0.0)\n",
    "print BR.A44\n",
    "A44=BR.A44[0:4,0:4]\n",
    "print A44"
   ]
  },
  {
   "cell_type": "code",
   "execution_count": 47,
   "metadata": {
    "collapsed": false,
    "scrolled": true
   },
   "outputs": [
    {
     "name": "stdout",
     "output_type": "stream",
     "text": [
      "___________________________________________________________\n",
      "\n",
      "      P A R A M E T E R   L I S T  \n",
      "___________________________________________________________\n",
      "\n",
      "  Energy    [GeV]   =    1.90000    \n",
      "  Circumf.  [m]     =   75.00000    \n",
      "  Rev. Time [nsec]  =  250.17262    \n",
      "  Rev. Freq.[MHz]   =    3.99724    \n",
      "  Betatron Tune H   =    6.25000    \n",
      "                V   =    2.75000    \n",
      "  Beta Funtion  H   =    0.54521    \n",
      "                V   =   12.08788    \n",
      "  Dispersion    H   =    0.03152    \n",
      "  Mom. Compaction   =    3.47986E-02 \n",
      "  Chromaticity   H  =  -10.99423    \n",
      "                 V  =   -4.62153    \n",
      "  Synch.Integral 1  =    2.60990    \n",
      "                 2  =    1.56660    \n",
      "                 3  =    0.39061    \n",
      "                 4  =   -0.00901    \n",
      "                 5  =    0.04976    \n",
      "  Damp.Partition H  =    1.00575    \n",
      "                 V  =    1.00000    \n",
      "                 E  =    1.99425    \n",
      "  Rad. Loss [KeV]   =    2.87443E+02 \n",
      "  Energy Spread     =    8.13852E-04 \n",
      "  Emittance         =    1.67307E-07 \n",
      "  Rad. Damping   H  =    3.288375 [msec]\n",
      "                 V  =    3.307286 [msec]\n",
      "                 E  =    1.658412 [msec]\n"
     ]
    }
   ],
   "source": [
    "BR.GetTwiss(1)\n",
    "BR.CalcIntegral()\n",
    "BR.CalcEmittance(1.9E9)\n",
    "BR.ListSynch()"
   ]
  },
  {
   "cell_type": "markdown",
   "metadata": {},
   "source": [
    "** Reference **\n",
    "\n",
    "Here is the reference result claculated by using ** Tracy#**\n",
    "<code>\n",
    " Energy                  =    1.90000 [GeV]\n",
    " Circumference           =   75.00000 [m]\n",
    " Revolution Time         =  250.17262[nsec]\n",
    " Revolution Frequency    =    3.99724[MHz]\n",
    " Betatron Tune       H   =    6.25000\n",
    "                     V   =    2.75000\n",
    " Beta Function       H   =    0.54521[m]\n",
    "                     V   =   12.08788[m]\n",
    " Dispersion          H   =    0.03152[m]\n",
    " Momentum Compaction     =    3.47987E-002\n",
    " Natural Chrom      H    =  -10.99423\n",
    "                    V    =   -4.62153\n",
    " Synchrotron Integral 1  =    2.60990\n",
    "                      2  =    1.56660\n",
    "                      3  =    0.39061\n",
    "                      4  =   -0.00901\n",
    "                      5  =    0.04976\n",
    " Damping Partition   H   =    1.00575\n",
    "                     V   =    1.00000\n",
    "                     E   =    1.99425\n",
    " Radiation Loss          =    2.87443E+002 [keV]\n",
    " Natural Energy Spread   =    8.13852E-004\n",
    " Natural Emittance       =    1.67307E-007\n",
    " Radiation Damping   H   =    3.28837 [msec]\n",
    "                     V   =    3.30729 [msec]\n",
    "                     E   =    1.65841 [msec]</code>"
   ]
  },
  {
   "cell_type": "code",
   "execution_count": 48,
   "metadata": {
    "collapsed": false
   },
   "outputs": [],
   "source": [
    "#BR.GetTwiss(1)\n",
    "#BR.ListTwiss()"
   ]
  },
  {
   "cell_type": "code",
   "execution_count": 49,
   "metadata": {
    "collapsed": false
   },
   "outputs": [
    {
     "data": {
      "image/png": "[encoded data removed]",
      "text/plain": [
       "<matplotlib.figure.Figure at 0x7f3b6dc8f290>"
      ]
     },
     "metadata": {},
     "output_type": "display_data"
    }
   ],
   "source": [
    "S=BR.SeriesS()\n",
    "Bx=BR.SeriesTwissH(1)\n",
    "By=BR.SeriesTwissV(1)\n",
    "Ex=BR.SeriesEta(0)*10\n",
    "plt.title(\"ALS Booster\")\n",
    "plt.plot(S,Bx,'r-',label=\"BetaH(m)\")\n",
    "plt.plot(S,By,'b-',label=\"BetaY(m)\" )\n",
    "plt.plot(S,Ex, 'g-',label=\"EtaH*10(m)\")\n",
    "plt.legend(bbox_to_anchor=(1.0, 1), loc=1, borderaxespad=0.)\n",
    "plt.xlabel('S [m]')\n",
    "plt.xlim(xmin=0.0, xmax=18.75)\n",
    "plt.ylim(ymin=0.0, ymax=16.00)\n",
    "plt.show()\n"
   ]
  },
  {
   "cell_type": "code",
   "execution_count": 50,
   "metadata": {
    "collapsed": false
   },
   "outputs": [],
   "source": [
    "class ALSSR0(Ring):\n",
    "    \n",
    "    def __init__(self):\n",
    "       Ring.__init__(self,None,1)\n",
    "        \n",
    "       SYM=Marker(\"SYM\")\n",
    "       L1=Drift(\"L1\",3.378695)\n",
    "       L2=Drift(\"L2\",0.434500)\n",
    "       L3=Drift(\"L3\",0.348698)\n",
    "       L4=Drift(\"L4\",0.743199)\n",
    "       L5=Drift(\"L5\",1.018198)\n",
    "       QF =Quad(\"QF\" ,0.17200,  2.237925251)\n",
    "       QD =Quad(\"QD\" ,0.09350, -2.253055316)\n",
    "       QFA=Quad(\"QFA\",0.22400,  2.888347638)\n",
    "       BU=Bend(\"BU\",0.43257,5.0,5.0,0.0,-0.7782)\n",
    "       BD=Bend(\"BD\",0.43257,5.0,0.0,5.0,-0.7782)\n",
    "\n",
    "       CELL=[SYM,L1,QF,QF,L2,QD,QD,L3,BU,BD,L4,QFA,QFA,L5,BU,\n",
    "                 BD,L5,QFA,QFA,L4,BU,BD,L3,QD,QD,L2,QF,QF,L1]\n",
    "\n",
    "       self.SetLine(CELL,12)\n",
    "       self.CODeps=1.0E-15\n",
    "       self.dPcommon=1.0E-07\n",
    "\n",
    "       self.SetQforTune(QF,QD)\n",
    "       self.SetQforDisp(QFA)\n",
    "       self.SetPosForDisp(0)\n"
   ]
  },
  {
   "cell_type": "code",
   "execution_count": 51,
   "metadata": {
    "collapsed": false
   },
   "outputs": [
    {
     "name": "stdout",
     "output_type": "stream",
     "text": [
      "___________________________________________________________\n",
      "\n",
      "      P A R A M E T E R   L I S T  \n",
      "___________________________________________________________\n",
      "\n",
      "  Energy    [GeV]   =    1.50000    \n",
      "  Circumf.  [m]     =  196.80000    \n",
      "  Rev. Time [nsec]  =  656.45295    \n",
      "  Rev. Freq.[MHz]   =    1.52334    \n",
      "  Betatron Tune H   =   14.25000    \n",
      "                V   =    8.20000    \n",
      "  Beta Funtion  H   =   11.30510    \n",
      "                V   =    3.90532    \n",
      "  Dispersion    H   =    0.00000    \n",
      "  Mom. Compaction   =    1.60290E-03 \n",
      "  Chromaticity   H  =  -24.64790    \n",
      "                 V  =  -26.42179    \n",
      "  Synch.Integral 1  =    0.31545    \n",
      "                 2  =    1.26757    \n",
      "                 3  =    0.25572    \n",
      "                 4  =   -0.49478    \n",
      "                 5  =    0.00181    \n",
      "  Damp.Partition H  =    1.39034    \n",
      "                 V  =    1.00000    \n",
      "                 E  =    1.60966    \n",
      "  Rad. Loss [KeV]   =    9.03470E+01 \n",
      "  Energy Spread     =    6.43297E-04 \n",
      "  Emittance         =    3.39994E-09 \n",
      "  Rad. Damping   H  =   15.677973 [msec]\n",
      "                 V  =   21.797717 [msec]\n",
      "                 E  =   13.541816 [msec]\n"
     ]
    },
    {
     "data": {
      "image/png": "[encoded data removed]",
      "text/plain": [
       "<matplotlib.figure.Figure at 0x7f3b6db16e90>"
      ]
     },
     "metadata": {},
     "output_type": "display_data"
    }
   ],
   "source": [
    "SR=ALSSR0()\n",
    "SR.GetTwiss(1)\n",
    "SR.FitDisp(0.0, 10, 1.0E-5)\n",
    "SR.GetTwiss(1)\n",
    "SR.FitTune(14.25, 8.20)\n",
    "SR.GetTwiss(1)\n",
    "SR.CalcIntegral()\n",
    "SR.CalcEmittance(1.5E9)\n",
    "SR.ListSynch()\n",
    "#SR.ListTwiss()\n",
    "\n",
    "# plotting\n",
    "\n",
    "S=SR.SeriesS()\n",
    "Bx=SR.SeriesTwissH(1)\n",
    "By=SR.SeriesTwissV(1)\n",
    "Ex=SR.SeriesEta(0)*100\n",
    "\n",
    "plt.title(\"ALS Original Lattice\")\n",
    "plt.plot(S,Bx,'r-',label=\"BetaH(m)\")\n",
    "plt.plot(S,By,'b-',label=\"BetaY(m)\" )\n",
    "plt.plot(S,Ex, 'g-',label=\"EtaH(cm)\")\n",
    "plt.legend(bbox_to_anchor=(1.0, 1), loc=1, borderaxespad=0.)\n",
    "plt.xlabel('S [m]')\n",
    "plt.xlim(xmin=0.0, xmax=16.4)\n",
    "plt.ylim(ymin=0.0, ymax=30.0)\n",
    "\n",
    "#plt.ylabel('some numbers')\n",
    "plt.show()"
   ]
  },
  {
   "cell_type": "code",
   "execution_count": 52,
   "metadata": {
    "collapsed": false
   },
   "outputs": [],
   "source": [
    "class ALSSR0S(Ring):\n",
    "    \n",
    "    def __init__(self):\n",
    "        Ring.__init__(self,None,1)\n",
    "        \n",
    "        SYM=Marker(\"SYM\")\n",
    "        L1  =Drift(\"L1\",3.378695)\n",
    "        L2  =Drift(\"L2\",0.434500)\n",
    "        L3  =Drift(\"L3\",0.348698)\n",
    "        L41 =Drift(\"L41\", 0.3171993)\n",
    "        L42 =Drift(\"L42\", 0.4260000)\n",
    "        L51 =Drift(\"L51\", 0.2260000)\n",
    "        L52 =Drift(\"L52\", 0.7921981)\n",
    "        QF =Quad(\"QF\", 0.17200, 2.250)\n",
    "        QD =Quad(\"QD\", 0.09350, -2.250)\n",
    "        QFA=Quad(\"QFA\", 0.22400, 2.888)\n",
    "        BU = Bend(\"BU\", 0.43257, 5.00, 3.00, 0.00, -0.810)\n",
    "        BD = Bend(\"BD\", 0.43257, 5.00, 0.00, 3.00, -0.810)\n",
    "        SF = Sext(\"SF\", 0.0)\n",
    "        SD = Sext(\"SD\", 0.0)\n",
    "        CELL = [SYM,L1,QF,QF,L2,QD,QD,L3,BU,BD,L41,SD,L42,QFA,QFA,L51,SF,L52,BU, \n",
    "                BD,L52,SF,L51,QFA,QFA,L42,SD,L41,BU,BD,L3,QD,QD,L2,QF,QF,L1]\n",
    "        self.SetLine(CELL,12)\n",
    "        self.CODeps=1.0E-16\n",
    "        self.dPcommon=1.0E-10\n",
    "        self.SetQforTune(QF, QD)\n",
    "        self.SetQforDisp(QFA)\n",
    "        self.SetPosForDisp(0)\n",
    "        self.SetChromParam(0.01,0.01,1.0e-7,1.0e-7)\n",
    "        #self.dKchromH=0.01\n",
    "        #self.dKchromV=0.01\n",
    "        #self.epsChromH=1.0E-7\n",
    "        #self.epsChromV=1.0E-7\n",
    "        self.SetSextforChrom(SF, SD)\n"
   ]
  },
  {
   "cell_type": "code",
   "execution_count": 53,
   "metadata": {
    "collapsed": false
   },
   "outputs": [
    {
     "name": "stdout",
     "output_type": "stream",
     "text": [
      "___________________________________________________________\n",
      "\n",
      "      P A R A M E T E R   L I S T  \n",
      "___________________________________________________________\n",
      "\n",
      "  Energy    [GeV]   =    1.50000    \n",
      "  Circumf.  [m]     =  196.80001    \n",
      "  Rev. Time [nsec]  =  656.45298    \n",
      "  Rev. Freq.[MHz]   =    1.52334    \n",
      "  Betatron Tune H   =   14.24999    \n",
      "                V   =    8.20000    \n",
      "  Beta Funtion  H   =   11.29191    \n",
      "                V   =    4.03290    \n",
      "  Dispersion    H   =    0.00000    \n",
      "  Mom. Compaction   =    1.59966E-03 \n",
      "  Chromaticity   H  =  -24.68038    \n",
      "                 V  =  -26.67614    \n",
      "  Synch.Integral 1  =    0.31481    \n",
      "                 2  =    1.26757    \n",
      "                 3  =    0.25572    \n",
      "                 4  =   -0.50716    \n",
      "                 5  =    0.00181    \n",
      "  Damp.Partition H  =    1.40010    \n",
      "                 V  =    1.00000    \n",
      "                 E  =    1.59990    \n",
      "  Rad. Loss [KeV]   =    9.03470E+01 \n",
      "  Energy Spread     =    6.45257E-04 \n",
      "  Emittance         =    3.36152E-09 \n",
      "  Rad. Damping   H  =   15.568635 [msec]\n",
      "                 V  =   21.797718 [msec]\n",
      "                 E  =   13.624465 [msec]\n"
     ]
    },
    {
     "data": {
      "image/png": "[encoded data removed]",
      "text/plain": [
       "<matplotlib.figure.Figure at 0x7f3b6dc35d10>"
      ]
     },
     "metadata": {},
     "output_type": "display_data"
    }
   ],
   "source": [
    "SR=ALSSR0S()\n",
    "SR.GetTwiss(1)\n",
    "SR.FitDisp(0.0, 10, 1.0E-5)\n",
    "SR.GetTwiss(1)\n",
    "SR.FitTune(14.25, 8.20)\n",
    "SR.GetTwiss(1)\n",
    "SR.CalcIntegral()\n",
    "SR.CalcEmittance(1.5E9)\n",
    "SR.ListSynch()\n",
    "#SR.ListTwiss()\n",
    "\n",
    "# plotting\n",
    "\n",
    "S=SR.SeriesS()\n",
    "Bx=SR.SeriesTwissH(1)\n",
    "By=SR.SeriesTwissV(1)\n",
    "Ex=SR.SeriesEta(0)*100\n",
    "\n",
    "plt.title(\"ALS Original Lattice\")\n",
    "plt.plot(S,Bx,'r-',label=\"BetaH(m)\")\n",
    "plt.plot(S,By,'b-',label=\"BetaY(m)\" )\n",
    "plt.plot(S,Ex, 'g-',label=\"EtaH(cm)\")\n",
    "plt.legend(bbox_to_anchor=(1.0, 1), loc=1, borderaxespad=0.)\n",
    "plt.xlabel('S [m]')\n",
    "plt.xlim(xmin=0.0, xmax=16.4)\n",
    "plt.ylim(ymin=0.0, ymax=30.0)\n",
    "\n",
    "#plt.ylabel('some numbers')\n",
    "plt.show()"
   ]
  },
  {
   "cell_type": "code",
   "execution_count": 54,
   "metadata": {
    "collapsed": false
   },
   "outputs": [
    {
     "name": "stdout",
     "output_type": "stream",
     "text": [
      "___________________________________________________________\n",
      "\n",
      "      P A R A M E T E R   L I S T  \n",
      "___________________________________________________________\n",
      "\n",
      "  Energy    [GeV]   =    1.50000    \n",
      "  Circumf.  [m]     =  196.80001    \n",
      "  Rev. Time [nsec]  =  656.45298    \n",
      "  Rev. Freq.[MHz]   =    1.52334    \n",
      "  Betatron Tune H   =   14.25000    \n",
      "                V   =    8.20000    \n",
      "  Beta Funtion  H   =   11.29187    \n",
      "                V   =    4.03290    \n",
      "  Dispersion    H   =    0.00000    \n",
      "  Mom. Compaction   =    1.59966E-03 \n",
      "  Chromaticity   H  =  -24.68029    \n",
      "                 V  =  -26.67605    \n",
      "  Synch.Integral 1  =    0.31481    \n",
      "                 2  =    1.26757    \n",
      "                 3  =    0.25572    \n",
      "                 4  =   -0.50716    \n",
      "                 5  =    0.00181    \n",
      "  Damp.Partition H  =    1.40010    \n",
      "                 V  =    1.00000    \n",
      "                 E  =    1.59990    \n",
      "  Rad. Loss [KeV]   =    9.03470E+01 \n",
      "  Energy Spread     =    6.45257E-04 \n",
      "  Emittance         =    3.36152E-09 \n",
      "  Rad. Damping   H  =   15.568635 [msec]\n",
      "                 V  =   21.797718 [msec]\n",
      "                 E  =   13.624465 [msec]\n",
      "___________________________________________________________\n",
      "\n",
      "      P A R A M E T E R   L I S T  \n",
      "___________________________________________________________\n",
      "\n",
      "  Energy    [GeV]   =    1.50000    \n",
      "  Circumf.  [m]     =  196.80001    \n",
      "  Rev. Time [nsec]  =  656.45298    \n",
      "  Rev. Freq.[MHz]   =    1.52334    \n",
      "  Betatron Tune H   =   14.25000    \n",
      "                V   =    8.20000    \n",
      "  Beta Funtion  H   =   11.29187    \n",
      "                V   =    4.03290    \n",
      "  Dispersion    H   =    0.00000    \n",
      "  Mom. Compaction   =    1.59966E-03 \n",
      "  Chromaticity   H  =    0.00000    \n",
      "                 V  =    0.00000    \n",
      "  Synch.Integral 1  =    0.31481    \n",
      "                 2  =    1.26757    \n",
      "                 3  =    0.25572    \n",
      "                 4  =   -0.50716    \n",
      "                 5  =    0.00181    \n",
      "  Damp.Partition H  =    1.40010    \n",
      "                 V  =    1.00000    \n",
      "                 E  =    1.59990    \n",
      "  Rad. Loss [KeV]   =    9.03470E+01 \n",
      "  Energy Spread     =    6.45257E-04 \n",
      "  Emittance         =    3.36152E-09 \n",
      "  Rad. Damping   H  =   15.568635 [msec]\n",
      "                 V  =   21.797718 [msec]\n",
      "                 E  =   13.624465 [msec]\n"
     ]
    }
   ],
   "source": [
    "R=ALSSR0S()\n",
    "SR.GetTwiss(1)\n",
    "SR.FitDisp(0.0, 10, 1.0E-5)\n",
    "SR.GetTwiss(1)\n",
    "SR.FitTune(14.25, 8.20)\n",
    "SR.GetTwiss(1)\n",
    "SR.CalcIntegral()\n",
    "SR.CalcEmittance(1.5E9)\n",
    "SR.ListSynch()\n",
    "SR.FitChrom(0.0,0.0)\n",
    "SR.CalcIntegral()\n",
    "SR.CalcEmittance(1.5E9)\n",
    "SR.ListSynch()\n",
    "\n",
    "#SR.ListTwiss()\n"
   ]
  }
 ],
 "metadata": {
  "kernelspec": {
   "display_name": "Python 2",
   "language": "python",
   "name": "python2"
  },
  "language_info": {
   "codemirror_mode": {
    "name": "ipython",
    "version": 2
   },
   "file_extension": ".py",
   "mimetype": "text/x-python",
   "name": "python",
   "nbconvert_exporter": "python",
   "pygments_lexer": "ipython2",
   "version": "2.7.6"
  }
 },
 "nbformat": 4,
 "nbformat_minor": 0
}
